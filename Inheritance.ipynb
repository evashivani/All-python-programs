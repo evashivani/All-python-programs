{
 "cells": [
  {
   "cell_type": "code",
   "execution_count": 1,
   "id": "8fb01287",
   "metadata": {},
   "outputs": [
    {
     "data": {
      "text/plain": [
       "2280.0"
      ]
     },
     "execution_count": 1,
     "metadata": {},
     "output_type": "execute_result"
    }
   ],
   "source": [
    "#wap to make a class of emp and try to inherit the common properties from the emp and try to find the salary \n",
    "#of emp if the emp take more thn 12 holidays total salary will deducted by 5%.if emp takes 0 leaves than 7% bonus and\n",
    "#if emp takes 6 leaves then give 2% salary bonus. \n",
    "\n",
    "class emp:\n",
    "    def __init__(self,name,age,exp,salary):\n",
    "        self.name=name\n",
    "        self.age=age\n",
    "        self.exp=exp\n",
    "        self.salary=salary\n",
    "class emp2(emp):\n",
    "    def __init__(self,name,age,exp,salary):\n",
    "        emp.__init__(self,name,age,exp,salary)\n",
    "        \n",
    "        #self.holi(holidays)\n",
    "    def holi(self,holidays,salary):\n",
    "        total_sal=salary*12\n",
    "            \n",
    "        if holidays>12:\n",
    "            deduction=(total_sal*5)/100\n",
    "            sal_after_deduction=total_sal-deduction\n",
    "            return sal_after_deduction\n",
    "        elif holidays==0:\n",
    "            bonus=(total_sal*7)/100\n",
    "            print(self.bonus)\n",
    "            total_bonus=total_sal+bonus\n",
    "        elif holidays<=6:\n",
    "            renew_bonus=(total_sal*2)/100\n",
    "            total_renew=total_sal+renew_bonus\n",
    "e=emp2('eva',23,5,100000000)\n",
    "#e.sal_after_deduction\n",
    "e.holi(13,200)\n",
    "#e.total_renew\n",
    "    "
   ]
  },
  {
   "cell_type": "code",
   "execution_count": 2,
   "id": "601d6991",
   "metadata": {},
   "outputs": [
    {
     "name": "stdout",
     "output_type": "stream",
     "text": [
      "80\n"
     ]
    }
   ],
   "source": [
    "#wap to make a class and inherit the property of transport class like color,\n",
    "#mileage and speed ,also a child class which is having no unigue property to display.\n",
    "class transport:\n",
    "    def __init__(self,color,mileage,speed):\n",
    "        self.color=color\n",
    "        self.mileage=mileage\n",
    "        self.speed=speed\n",
    "class vehicle(transport):\n",
    "    pass\n",
    "        \n",
    "v=vehicle('black',230,80)\n",
    "print(v.speed)"
   ]
  },
  {
   "cell_type": "code",
   "execution_count": 3,
   "id": "c29f87a4",
   "metadata": {},
   "outputs": [
    {
     "name": "stdout",
     "output_type": "stream",
     "text": [
      "<__main__.empty object at 0x0000021F84111AF0>\n"
     ]
    }
   ],
   "source": [
    "#wap to make a classs of having no properties ,\n",
    "#attributes or methods.just try to make the object of the empty class and try to get the o/p of the class.\n",
    "class empty:\n",
    "    def __init__(self):\n",
    "        pass\n",
    "e=empty()\n",
    "print(e)"
   ]
  },
  {
   "cell_type": "code",
   "execution_count": 4,
   "id": "24888b9f",
   "metadata": {},
   "outputs": [
    {
     "data": {
      "text/plain": [
       "'hi how are u'"
      ]
     },
     "execution_count": 4,
     "metadata": {},
     "output_type": "execute_result"
    }
   ],
   "source": [
    "#wap and try to get the attributes of the particular class through the object.\n",
    "class a:\n",
    "    def con():\n",
    "        a='hi'\n",
    "        b='how are u'\n",
    "        c=a+' '+b\n",
    "        return c\n",
    "obj=a\n",
    "obj.con()\n",
    "#obj.c\n",
    "\n",
    "    "
   ]
  },
  {
   "cell_type": "code",
   "execution_count": 5,
   "id": "731ca857",
   "metadata": {},
   "outputs": [
    {
     "name": "stdout",
     "output_type": "stream",
     "text": [
      "22 g\n"
     ]
    }
   ],
   "source": [
    "class papa:\n",
    "    def __init__(self,color,height,behave):\n",
    "        self.color=color\n",
    "        self.height=height\n",
    "        self.behave=behave\n",
    "class beta(papa):\n",
    "    def __init__(self,color,height,behave,age):\n",
    "        papa.__init__(self,color,height,behave)\n",
    "        self.age=age\n",
    "b=beta('f',22,'g',23)\n",
    "b.age  \n",
    "b.color    #it overwrites the b.age\n",
    "print(b.height,b.behave) # it overwrites the above b.age and b.color"
   ]
  },
  {
   "cell_type": "code",
   "execution_count": 6,
   "id": "84926a4a",
   "metadata": {},
   "outputs": [
    {
     "name": "stdout",
     "output_type": "stream",
     "text": [
      "240\n"
     ]
    }
   ],
   "source": [
    "#wap to make a class of vehicle and define its attributes like speed ,color and engine and try to find out the total\n",
    "#distance of the particular vehicle which having the speed of 80 km/hr within 3hrs.\n",
    "\n",
    "class vehicle:\n",
    "    def __init__(self,speed,color,engine):\n",
    "        self.speed=speed\n",
    "        self.color=color\n",
    "        self.engine=engine\n",
    "class v2(vehicle):\n",
    "    def __init__(self,speed,color,engine,time):\n",
    "        vehicle.__init__(self,speed,color,engine)\n",
    "        self.time=time\n",
    "        self.distance=self.speed*self.time\n",
    "z=v2(80,'red','turbo',3)\n",
    "print(z.distance)"
   ]
  },
  {
   "cell_type": "code",
   "execution_count": null,
   "id": "d77dac61",
   "metadata": {},
   "outputs": [],
   "source": []
  },
  {
   "cell_type": "code",
   "execution_count": 7,
   "id": "eae01c63",
   "metadata": {},
   "outputs": [
    {
     "name": "stdout",
     "output_type": "stream",
     "text": [
      "shivani chaurasia\n"
     ]
    }
   ],
   "source": [
    "class person:\n",
    "    def __init__(self,fname,lname):\n",
    "        self.firstname=fname\n",
    "        self.lastname=lname\n",
    "    def display(self):\n",
    "        print(self.firstname,self.lastname)\n",
    "class student(person):\n",
    "    def __init__(self,fname,lname):\n",
    "        person.__init__(self,fname,lname)\n",
    "    \n",
    "    \n",
    "    \n",
    "x=student('shivani','chaurasia')\n",
    "x.display()"
   ]
  },
  {
   "cell_type": "code",
   "execution_count": 8,
   "id": "e5d8f67c",
   "metadata": {},
   "outputs": [
    {
     "name": "stdout",
     "output_type": "stream",
     "text": [
      "eva\n",
      "destructor is called\n"
     ]
    }
   ],
   "source": [
    "class student:\n",
    "    def __init__(self):\n",
    "        self.name='eva'\n",
    "        print(self.name)\n",
    "    def __del__(self):           #destructor\n",
    "        print('destructor is called')\n",
    "s=student()\n",
    "del s"
   ]
  },
  {
   "cell_type": "code",
   "execution_count": 50,
   "id": "4a2b8055",
   "metadata": {},
   "outputs": [
    {
     "data": {
      "text/plain": [
       "4"
      ]
     },
     "execution_count": 50,
     "metadata": {},
     "output_type": "execute_result"
    }
   ],
   "source": [
    "# wap and make a class of automobile and try to inherit the sum common properties of constructors and also try to get the\n",
    "#name of the model which is having the best avg.\n",
    "\n",
    "class car1:\n",
    "    def __init__(self,lt,distance,model):\n",
    "        self.lt=lt\n",
    "        self.distance=distance\n",
    "        self.model=model\n",
    "class car2(car1):\n",
    "    def __init__(self,lt,distance,model,color):\n",
    "        self.color=color\n",
    "        car1.__init__(self,lt,distance,model)\n",
    "class car3(car2):\n",
    "    def __init__(self,lt,distance,model,color,mileage):\n",
    "        self.mileage=mileage\n",
    "        car2.__init__(self,lt,distance,model,color)\n",
    "        self.avg()\n",
    "        \n",
    "    def avg(self):\n",
    "        self.average=self.distance//self.lt\n",
    "c=car3(500,2000,1,'red',40)\n",
    "c.average \n",
    "#c.color\n",
    "#c.mileage"
   ]
  },
  {
   "cell_type": "code",
   "execution_count": 67,
   "id": "c7fb5314",
   "metadata": {},
   "outputs": [
    {
     "name": "stdout",
     "output_type": "stream",
     "text": [
      "It is a mammal\n",
      "It is domestic animal\n",
      "It is a mammal\n",
      "It has a tail\n",
      "It has 4 legs\n"
     ]
    }
   ],
   "source": [
    "#Let’s take an example of animals. Dogs, cats and cows are part of animals. They also share common characteristics like –  \n",
    "#They are mammals.\n",
    "#They have a tail and four legs.\n",
    "#They are domestic animals.\n",
    "\n",
    "class animals:\n",
    "    def __init__(self):\n",
    "        self.mammals=True\n",
    "        self.tail=True\n",
    "        self.legs=4\n",
    "        self.domestic=True\n",
    "    def ismammals(self):\n",
    "        if self.mammals:\n",
    "            print('It is a mammal')\n",
    "    def isdomestic(self):\n",
    "        if self.domestic:\n",
    "            print('It is domestic animal')\n",
    "class dog(animals):\n",
    "    def __init__(self):\n",
    "        super().__init__()\n",
    "    def ismammals(self):\n",
    "        super().ismammals()\n",
    "    def isdomestic(self):\n",
    "        super().isdomestic()\n",
    "    def hastail(self):\n",
    "        if self.tail:\n",
    "            print('It has a tail')\n",
    "class cow(animals):\n",
    "    def __init__(self):\n",
    "        super().__init__()\n",
    "    def ismammals(self):\n",
    "        super().ismammals()\n",
    "    def isdomestic(self):\n",
    "        super().isdomestic()\n",
    "    def hastail(self):\n",
    "        if self.tail:\n",
    "            print('It has a tail')\n",
    "    def haslegs(self):\n",
    "        if self.legs == 4:\n",
    "            print('It has 4 legs')\n",
    "c=cow()\n",
    "c.ismammals()\n",
    "c.isdomestic()\n",
    "d=dog()\n",
    "d.ismammals()\n",
    "d.hastail()\n",
    "c.haslegs()\n",
    "    "
   ]
  },
  {
   "cell_type": "code",
   "execution_count": 13,
   "id": "a7c5c6eb",
   "metadata": {},
   "outputs": [
    {
     "name": "stdout",
     "output_type": "stream",
     "text": [
      "average marks:  85.0\n"
     ]
    },
    {
     "data": {
      "text/plain": [
       "'eva'"
      ]
     },
     "execution_count": 13,
     "metadata": {},
     "output_type": "execute_result"
    }
   ],
   "source": [
    "#wap to make a parent class as empty class and also try to make a normal class having some attributes related to students\n",
    "#and try to find out the avergae marks of students through the fun and try to get the o/p of empty parent class,normal \n",
    "#class and child class.\n",
    "\n",
    "class parent:\n",
    "    pass\n",
    "class senior_stu(parent):\n",
    "    def __init__(self,name,age,marks):\n",
    "        self.name=name\n",
    "        self.age=age\n",
    "        self.marks=marks\n",
    "class student(senior_stu):\n",
    "    def __init__(self,name,age,marks,marks1):\n",
    "        self.marks1=marks1\n",
    "        super().__init__(name,age,marks)\n",
    "        self.avg()\n",
    "    def avg(self):\n",
    "        average=(self.marks+self.marks1)/2\n",
    "        print('average marks: ',average)\n",
    "s=student('eva',20,80,90)\n",
    "s.name"
   ]
  },
  {
   "cell_type": "code",
   "execution_count": 22,
   "id": "f90fd6d3",
   "metadata": {},
   "outputs": [
    {
     "ename": "AttributeError",
     "evalue": "'student' object has no attribute 'v'",
     "output_type": "error",
     "traceback": [
      "\u001b[1;31m---------------------------------------------------------------------------\u001b[0m",
      "\u001b[1;31mAttributeError\u001b[0m                            Traceback (most recent call last)",
      "\u001b[1;32m~\\AppData\\Local\\Temp/ipykernel_5660/987884101.py\u001b[0m in \u001b[0;36m<module>\u001b[1;34m\u001b[0m\n\u001b[0;32m      3\u001b[0m     \u001b[0mx\u001b[0m\u001b[1;33m=\u001b[0m\u001b[1;36m50\u001b[0m\u001b[1;33m\u001b[0m\u001b[1;33m\u001b[0m\u001b[0m\n\u001b[0;32m      4\u001b[0m \u001b[0ms\u001b[0m\u001b[1;33m=\u001b[0m\u001b[0mstudent\u001b[0m\u001b[1;33m(\u001b[0m\u001b[1;33m)\u001b[0m\u001b[1;33m\u001b[0m\u001b[1;33m\u001b[0m\u001b[0m\n\u001b[1;32m----> 5\u001b[1;33m \u001b[0ms\u001b[0m\u001b[1;33m.\u001b[0m\u001b[0mv\u001b[0m\u001b[1;33m\u001b[0m\u001b[1;33m\u001b[0m\u001b[0m\n\u001b[0m\u001b[0;32m      6\u001b[0m \u001b[0ms\u001b[0m\u001b[1;33m.\u001b[0m\u001b[0mx\u001b[0m\u001b[1;33m\u001b[0m\u001b[1;33m\u001b[0m\u001b[0m\n",
      "\u001b[1;31mAttributeError\u001b[0m: 'student' object has no attribute 'v'"
     ]
    }
   ],
   "source": [
    "#wap to hide the code from the valid user who want to access the code.\n",
    "class student:\n",
    "    __v=10\n",
    "    x=50\n",
    "s=student()\n",
    "s.v\n",
    "s.x"
   ]
  },
  {
   "cell_type": "code",
   "execution_count": 20,
   "id": "f133e330",
   "metadata": {},
   "outputs": [
    {
     "name": "stdout",
     "output_type": "stream",
     "text": [
      "average marks:  55.0\n"
     ]
    }
   ],
   "source": [
    "#wap to make a parent class as empty class and also try to make a normal class having some attributes related to students\n",
    "#and try to find out the avergae marks of students through the fun and try to get the o/p of empty parent class,normal \n",
    "#class and child class without using constructor.\n",
    "\n",
    "class parent:\n",
    "    pass\n",
    "class senior_stu(parent):\n",
    "    def fun(self,name,age,marks):\n",
    "        self.name=name\n",
    "        self.age=age\n",
    "        self.marks=marks\n",
    "class student(senior_stu):\n",
    "    def fun(self,name,age,marks,marks1):\n",
    "        super().fun(name,age,marks)\n",
    "        self.marks1=marks1\n",
    "        average=(self.marks+self.marks1)/2\n",
    "        print('average marks: ',average)\n",
    "s=student()\n",
    "s.fun('eva',4,50,60)"
   ]
  },
  {
   "cell_type": "code",
   "execution_count": 28,
   "id": "df934867",
   "metadata": {},
   "outputs": [
    {
     "data": {
      "text/plain": [
       "'cheerful'"
      ]
     },
     "execution_count": 28,
     "metadata": {},
     "output_type": "execute_result"
    }
   ],
   "source": [
    "#multiple inheritance\n",
    "\n",
    "class papa:\n",
    "    def __init__(self,name,height,behaviour):\n",
    "        self.name=name\n",
    "        self.height=height\n",
    "        self.behaviour=behaviour\n",
    "class mummy:\n",
    "    def __init__(self,color):\n",
    "        self.color=color\n",
    "class baby(papa,mummy):\n",
    "    def __init__(self,name,height,behaviour,color,age):\n",
    "        self.age=age\n",
    "        papa.__init__(self,name,height,behaviour)\n",
    "        mummy.__init__(self,color)\n",
    "b=baby('eva',5,'cheerful','wheatish',4)\n",
    "b.name\n",
    "b.behaviour\n",
    "    "
   ]
  },
  {
   "cell_type": "code",
   "execution_count": 32,
   "id": "ee222e4b",
   "metadata": {},
   "outputs": [
    {
     "data": {
      "text/plain": [
       "40"
      ]
     },
     "execution_count": 32,
     "metadata": {},
     "output_type": "execute_result"
    }
   ],
   "source": [
    "#hierarichal inheritance\n",
    "class papa:\n",
    "    def __init__(self,height,behaviour):\n",
    "        self.height1=height\n",
    "        self.behaviour1=behaviour\n",
    "class beta1(papa):\n",
    "    def __init__(self,height,behaviour,color):\n",
    "        self.color1=color\n",
    "        super().__init__(height,behaviour)\n",
    "class beta2(papa):\n",
    "    def __init__(self,height,behaviour,age):\n",
    "        self.age1=age\n",
    "        super().__init__(height,behaviour)\n",
    "b1=beta1(6,'aggressive','fair')\n",
    "b1.height1\n",
    "b2=beta2(5.7,'sweet',40)\n",
    "b2.age1\n",
    "\n",
    "    \n",
    "    "
   ]
  },
  {
   "cell_type": "code",
   "execution_count": 9,
   "id": "6ae27e62",
   "metadata": {},
   "outputs": [
    {
     "data": {
      "text/plain": [
       "30"
      ]
     },
     "execution_count": 9,
     "metadata": {},
     "output_type": "execute_result"
    }
   ],
   "source": [
    "#wap in which  a class is having some variables as their attributes and try to get the o/p from the code without using function\n",
    "#and constructor.\n",
    "class x:\n",
    "    a=10\n",
    "    b=20\n",
    "    c=a+b\n",
    "    #print(c)\n",
    "obj=x()\n",
    "x.c\n",
    "\n",
    "        \n",
    "    "
   ]
  },
  {
   "cell_type": "code",
   "execution_count": 10,
   "id": "4f81496b",
   "metadata": {},
   "outputs": [
    {
     "name": "stdout",
     "output_type": "stream",
     "text": [
      "multiply 6\n"
     ]
    }
   ],
   "source": [
    "class one:\n",
    "    def perform(self,a,b):\n",
    "        print('add',a+b)\n",
    "class two(one):\n",
    "    def perform(self,a,b):\n",
    "        print('multiply',a*b)\n",
    "        \n",
    "t=two()\n",
    "t.perform(2,3)"
   ]
  },
  {
   "cell_type": "code",
   "execution_count": 8,
   "id": "1d877155",
   "metadata": {},
   "outputs": [
    {
     "name": "stdout",
     "output_type": "stream",
     "text": [
      "True\n",
      "False\n"
     ]
    }
   ],
   "source": [
    "#How will u check if a class is a child class of another class.\n",
    "class parent:\n",
    "    pass\n",
    "class child(parent):\n",
    "    pass\n",
    "print(issubclass(child,parent))\n",
    "print(issubclass(parent,child))"
   ]
  },
  {
   "cell_type": "code",
   "execution_count": 12,
   "id": "bdde4d3e",
   "metadata": {},
   "outputs": [
    {
     "name": "stdout",
     "output_type": "stream",
     "text": [
      "this is string\n"
     ]
    }
   ],
   "source": [
    "s='this is string'\n",
    "x=s.split()\n",
    "x=(' '.join(x))\n",
    "print(x)"
   ]
  },
  {
   "cell_type": "code",
   "execution_count": null,
   "id": "93c43306",
   "metadata": {},
   "outputs": [],
   "source": []
  }
 ],
 "metadata": {
  "kernelspec": {
   "display_name": "Python 3 (ipykernel)",
   "language": "python",
   "name": "python3"
  },
  "language_info": {
   "codemirror_mode": {
    "name": "ipython",
    "version": 3
   },
   "file_extension": ".py",
   "mimetype": "text/x-python",
   "name": "python",
   "nbconvert_exporter": "python",
   "pygments_lexer": "ipython3",
   "version": "3.9.7"
  }
 },
 "nbformat": 4,
 "nbformat_minor": 5
}
