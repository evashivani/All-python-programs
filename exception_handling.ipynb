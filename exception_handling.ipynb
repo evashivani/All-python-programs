{
 "cells": [
  {
   "cell_type": "code",
   "execution_count": 4,
   "id": "0785dd00",
   "metadata": {},
   "outputs": [
    {
     "name": "stdout",
     "output_type": "stream",
     "text": [
      "2\n",
      "error occured\n"
     ]
    }
   ],
   "source": [
    "a=[1,2,3]\n",
    "try:\n",
    "    print(a[1])\n",
    "    print(a[3])\n",
    "except:\n",
    "    print('error occured')"
   ]
  },
  {
   "cell_type": "code",
   "execution_count": 17,
   "id": "bd3c3596",
   "metadata": {},
   "outputs": [
    {
     "name": "stdout",
     "output_type": "stream",
     "text": [
      "NameError Occurred and Handled\n"
     ]
    }
   ],
   "source": [
    "def fun(a):\n",
    "    if a < 4:\n",
    "\n",
    "        b = a/(a-3)\n",
    " \n",
    "    \n",
    "    print(\"Value of b = \", b)\n",
    "     \n",
    "try:\n",
    "    #fun(3)\n",
    "    fun(5)\n",
    "#except:\n",
    "   # print(\"ZeroDivisionError Occurred and Handled\")\n",
    "except:\n",
    "    print(\"NameError Occurred and Handled\")"
   ]
  },
  {
   "cell_type": "code",
   "execution_count": null,
   "id": "77752673",
   "metadata": {},
   "outputs": [],
   "source": []
  },
  {
   "cell_type": "code",
   "execution_count": null,
   "id": "912f9f8f",
   "metadata": {},
   "outputs": [],
   "source": []
  }
 ],
 "metadata": {
  "kernelspec": {
   "display_name": "Python 3 (ipykernel)",
   "language": "python",
   "name": "python3"
  },
  "language_info": {
   "codemirror_mode": {
    "name": "ipython",
    "version": 3
   },
   "file_extension": ".py",
   "mimetype": "text/x-python",
   "name": "python",
   "nbconvert_exporter": "python",
   "pygments_lexer": "ipython3",
   "version": "3.9.7"
  }
 },
 "nbformat": 4,
 "nbformat_minor": 5
}
