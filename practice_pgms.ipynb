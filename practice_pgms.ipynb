{
 "cells": [
  {
   "cell_type": "code",
   "execution_count": null,
   "id": "0d5492b4",
   "metadata": {},
   "outputs": [],
   "source": [
    "#wap to accept city form user and display monument of that city.\n",
    "#Monument             City\n",
    "#Redfort             Delhi\n",
    "#TajMahal             Agra\n",
    "#Jal Mahal           Jaipur\n",
    "\n",
    "city=input(\"Enter the city Delhi,Agra or Jaipur\")\n",
    "if city==\"Delhi\":\n",
    "    print(\"Redfort\")\n",
    "elif city==\"Agra\":\n",
    "    print(\"TajMahal\")\n",
    "elif city==\"Jaipur\":\n",
    "    print(\"Jal Mahal\")\n",
    "else:\n",
    "    print(\"invalid city\")"
   ]
  },
  {
   "cell_type": "code",
   "execution_count": null,
   "id": "4193171c",
   "metadata": {},
   "outputs": [],
   "source": [
    "#wap to accept the marked price form user and calculate the net amount as discount to pay according to following criteria:\n",
    "#Marked price                Discount\n",
    "#>10000                        20%\n",
    "#>7000 & <=10000               15%\n",
    "#<=7000                        10%\n",
    "\n",
    "marked_price=int(input(\"Enter the price to get the discount\"))\n",
    "if marked_price>10000:\n",
    "    discount=marked_price*20/100\n",
    "    print(\"Discount: \",discount)\n",
    "    net_amount=marked_price+discount\n",
    "    print(\"Net Amount: \",net_amount)\n",
    "elif marked_price>7000 and marked_price<=10000:\n",
    "    discount=marked_price*15/100\n",
    "    print(\"Discount: \",discount)\n",
    "    net_amount=marked_price+discount\n",
    "    print(\"Net Amount: \",net_amount)\n",
    "elif marked_price<=7000:\n",
    "    discount=marked_price*10/100\n",
    "    print(\"Discount: \",discount)\n",
    "    net_amount=marked_price+discount\n",
    "    print(\"Net Amount: \",net_amount)\n",
    "\n"
   ]
  },
  {
   "cell_type": "code",
   "execution_count": null,
   "id": "d5d158c7",
   "metadata": {},
   "outputs": [],
   "source": [
    "#wap to calculate the electricity bill accept no. of unit from user according to following criteria:\n",
    " #   Unit                             Discount\n",
    "#  first 100 units                   No charge\n",
    "# next 100 units                     Rs 5 per unit\n",
    "# after 200 unit                     Res 10 oer unit\n",
    "\n",
    "unit=int(input(\"Enter number of unit\"))\n",
    "if unit<=100:\n",
    "    print(\"No charge\")\n",
    "elif unit>100 and unit<=200:\n",
    "    unit=100+unit-100*5\n",
    "    print(unit)\n",
    "elif unit>200:\n",
    "    unit=100+(200-100)*5+(unit-200)*10\n",
    "    print(unit)"
   ]
  },
  {
   "cell_type": "code",
   "execution_count": null,
   "id": "5802bea3",
   "metadata": {},
   "outputs": [],
   "source": [
    "# A company decided to give bonus to employee according to following criteria:\n",
    "# Time period of service                                  Bonus\n",
    "# more than 10 years                                       10%\n",
    "# >6 and <=10                                               8%\n",
    "# less than 6 years                                         5%\n",
    "\n",
    "salary=int(input(\"Enter the salary\"))\n",
    "year_of_service=int(input(\"Enter the year of service\"))\n",
    "if year_of_service>10 :\n",
    "    bonus=salary*10/100\n",
    "    print(\"Bonus: \",bonus)\n",
    "elif year_of_service>6 and year_of_service<=10:\n",
    "    bonus=salary*8/100\n",
    "    print(\"Bonus: \",bonus)\n",
    "elif year_of_service<6 :\n",
    "    bonus=salary*5/100\n",
    "    print(\"Bonus: \",bonus)"
   ]
  },
  {
   "cell_type": "code",
   "execution_count": null,
   "id": "f8d1cf0c",
   "metadata": {},
   "outputs": [],
   "source": [
    "#wap to print sum of two numbers:\n",
    "\n",
    "num1=int(input(\"Enter the number1: \"))\n",
    "num2=int(input(\"Enter the number2: \"))\n",
    "sum=num1+num2\n",
    "print(sum)\n"
   ]
  },
  {
   "cell_type": "code",
   "execution_count": null,
   "id": "194e7a35",
   "metadata": {},
   "outputs": [],
   "source": [
    "#wap to print sum of numbers using loop:\n",
    "\n",
    "num=int(input(\"Enter the number\"))\n",
    "sum=0\n",
    "i=1\n",
    "while i<=num:\n",
    "    sum=sum+i\n",
    "    i=i+1\n",
    "print(sum)\n",
    "    \n",
    "    "
   ]
  },
  {
   "cell_type": "code",
   "execution_count": null,
   "id": "fd6c6c0b",
   "metadata": {},
   "outputs": [],
   "source": [
    "#wap to print table:\n",
    "\n",
    "num=int(input(\"Enter the number\"))\n",
    "#table=0\n",
    "i=1\n",
    "while i<=10:\n",
    "    table=num*i\n",
    "    print(num,'*' ,i,'=',table)\n",
    "    i+=1"
   ]
  },
  {
   "cell_type": "code",
   "execution_count": null,
   "id": "2cf438f1",
   "metadata": {},
   "outputs": [],
   "source": [
    "#wap to find prime no. using loop:\n",
    "\n",
    "num=int(input(\"Enter the number\"))\n",
    "i=1\n",
    "k=0\n",
    "for i in range(1,num+1):\n",
    "    if num%i==0:\n",
    "        print(\"divide\")\n",
    "        k=k+1\n",
    "       # i=i+1\n",
    "if k==2:\n",
    "    print(\"prime\")\n",
    "else:\n",
    "    print(\"not a prime\")\n",
    "        \n",
    "        "
   ]
  },
  {
   "cell_type": "code",
   "execution_count": null,
   "id": "bf3ad93b",
   "metadata": {},
   "outputs": [],
   "source": [
    "#wap to find factorial of number:\n",
    "\n",
    "num=int(input(\"Enter the number: \"))\n",
    "fact=1\n",
    "i=1\n",
    "while i<=num:\n",
    "    fact=fact*i\n",
    "    i=i+1\n",
    "print(\"factorial of\",num,\"=\",fact)"
   ]
  },
  {
   "cell_type": "code",
   "execution_count": 1,
   "id": "d6269839",
   "metadata": {},
   "outputs": [
    {
     "name": "stdout",
     "output_type": "stream",
     "text": [
      "Enter the number5\n",
      "Enter zero: 0\n",
      "Enter one: 1\n",
      "0\n",
      "1\n",
      "1\n",
      "2\n",
      "3\n",
      "5\n"
     ]
    }
   ],
   "source": [
    "#wap to find fibonacci series using for loop:\n",
    "\n",
    "n=int(input(\"Enter the number\"))\n",
    "a=int(input(\"Enter zero: \"))\n",
    "b=int(input(\"Enter one: \"))\n",
    "print(a)\n",
    "print(b)\n",
    "for i in range(1,n):\n",
    "    c=a+b\n",
    "    a=b\n",
    "    b=c\n",
    "    print(c)"
   ]
  },
  {
   "cell_type": "code",
   "execution_count": 2,
   "id": "b6555025",
   "metadata": {},
   "outputs": [
    {
     "name": "stdout",
     "output_type": "stream",
     "text": [
      "Enter the number5\n",
      "Enter zero: 0\n",
      "Enter one: 1\n",
      "0\n",
      "1\n",
      "1\n",
      "2\n",
      "3\n",
      "5\n",
      "8\n"
     ]
    }
   ],
   "source": [
    "#wap to find fibonacci series using while loop:\n",
    "\n",
    "n=int(input(\"Enter the number\"))\n",
    "a=int(input(\"Enter zero: \"))\n",
    "b=int(input(\"Enter one: \"))\n",
    "print(a)\n",
    "print(b)\n",
    "i=1\n",
    "while i<=n:\n",
    "    c=a+b\n",
    "    a=b\n",
    "    b=c\n",
    "    print(c)\n",
    "    i=i+1"
   ]
  },
  {
   "cell_type": "code",
   "execution_count": null,
   "id": "a4b6bb47",
   "metadata": {},
   "outputs": [],
   "source": [
    "# Wap to find the area and perimeter of circle and also try to find if this circle is going to be square or not?\n",
    "def area1(r,a):\n",
    "    area_of_circle=3.14*10**2\n",
    "    print(\"Area of circle: \",area_of_circle)\n",
    "    perimeter=2*3.14*10\n",
    "    print(\"Perimeter of circle: \",perimeter)\n",
    "    area_of_square=a*a\n",
    "    print(\"Area of square: \",area_of_square)\n",
    "    if (area_of_circle==area_of_square):\n",
    "        print(\"circle is equal to square\")\n",
    "    else:\n",
    "        print(\"circle is not equal to square\")\n",
    "area1(10,3)"
   ]
  },
  {
   "cell_type": "code",
   "execution_count": null,
   "id": "e66d8a84",
   "metadata": {},
   "outputs": [],
   "source": [
    "#Calculate the total area of a land having l=20 b=30.If the land is greater than 100sq fit then also calculate the cost of\n",
    "#remaining land. Price of land is 20000K.\n",
    "def land(l,b,price):\n",
    "    total_area=l*b\n",
    "    print(\"Area of land: \",total_area,\"sq fit\")\n",
    "    if total_area>100:\n",
    "        remaining_land=total_area-100\n",
    "        cost_of_land=price//600\n",
    "        print(\"Cost of land: \",cost_of_land)\n",
    "       # p=33*500\n",
    "        price_of_remaining_land=cost_of_land*remaining_land\n",
    "        print(\"Total cost of remaining land: \",price_of_remaining_land)\n",
    "        \n",
    "land(20,30,200000)"
   ]
  },
  {
   "cell_type": "code",
   "execution_count": null,
   "id": "e6dfea46",
   "metadata": {},
   "outputs": [],
   "source": [
    "# Wap to find out the average cost of 5 quantity each quantity is having the value of 80 and if the value exceed by\n",
    "# avg value then also calculate the total price of whole quantity avg value => 350\n",
    "\n",
    "def cost(value,total_quantity):\n",
    "    total_price=value*total_quantity\n",
    "    avg_cost=total_price/total_quantity\n",
    "    print(\"Average cost: \",avg_cost)\n",
    "    if avg_cost>350:\n",
    "        total_price=value*total_quantity\n",
    "        print(\"Total quantity: \",total_price)\n",
    "    else:\n",
    "        print(\"average cost is low\")\n",
    "cost(80,5)\n",
    "\n"
   ]
  },
  {
   "cell_type": "code",
   "execution_count": null,
   "id": "1b8d5436",
   "metadata": {},
   "outputs": [],
   "source": [
    "# Wap to calculate the percentage of 5 students?\n",
    "def perc(b):\n",
    "    \n",
    "    #sum=0\n",
    "    for i in b:\n",
    "        total_marks=sum(b)\n",
    "        #sum=sum+i\n",
    "    print(\"total marks: \",total_marks)\n",
    "    avg_marks=total_marks/5\n",
    "    print(\"average marks: \",avg_marks)\n",
    "    perc=(total_marks/500)*100\n",
    "    print(perc,'%')\n",
    "a=[45,56,78,90,88]\n",
    "perc(a)"
   ]
  },
  {
   "cell_type": "code",
   "execution_count": null,
   "id": "8b594322",
   "metadata": {},
   "outputs": [],
   "source": [
    "#The length of a rectangular plot of land exceeds its breadth by 23 m ,length by 15 m and the breadth is increased by 7 m ,\n",
    "#the area is reduced by 360 m \n",
    "# Find the length  and breadth of the plot.\n",
    "length=b+23\n",
    "breadth=b\n",
    "area1=length*breadth\n",
    "#print(area1)\n",
    "length=b+23-15\n",
    "breadth=b+7\n",
    "area2=length*breadth\n",
    "#print(area2)\n",
    "Area=360\n",
    "Area=area2-area1\n",
    "print(length)\n",
    "print(breadth)"
   ]
  },
  {
   "cell_type": "code",
   "execution_count": 3,
   "id": "66fe6ea1",
   "metadata": {},
   "outputs": [
    {
     "name": "stdout",
     "output_type": "stream",
     "text": [
      "['age', 'complexion', 'height', 'name']\n"
     ]
    }
   ],
   "source": [
    "#sort python dictionary by key and value.\n",
    "student={\n",
    "    'name':'eva',\n",
    "    'age':4,\n",
    "    'complexion':'fair',\n",
    "    'height':3\n",
    "}\n",
    "a=list(student)\n",
    "a.sort()\n",
    "print(a)"
   ]
  },
  {
   "cell_type": "code",
   "execution_count": null,
   "id": "6804799e",
   "metadata": {},
   "outputs": [],
   "source": [
    "#wap to sum of all items in dictionary.\n",
    "s={\n",
    "    'a':10,\n",
    "    'b':20,\n",
    "    'c':30\n",
    "}\n",
    "sum=0\n",
    "for x in s.values():\n",
    "    sum=sum+x\n",
    "print(sum)"
   ]
  },
  {
   "cell_type": "code",
   "execution_count": null,
   "id": "42087dd1",
   "metadata": {},
   "outputs": [],
   "source": [
    "#wap to calculate compound interest.\n",
    "p=1200\n",
    "t=2\n",
    "r=5.4\n",
    "Amount=p*(1+r/100)**t\n",
    "C_I=Amount-p\n",
    "print(\"Amount: \",Amount)\n",
    "print('Compound Interest: ',C_I)"
   ]
  },
  {
   "cell_type": "code",
   "execution_count": null,
   "id": "6d28fc37",
   "metadata": {},
   "outputs": [],
   "source": [
    "#wap for simple interest.\n",
    "p=5000\n",
    "t=2\n",
    "r=7\n",
    "simple_interest=(p*r*t)/100\n",
    "print('Simple Interest: ',simple_interest)"
   ]
  }
 ],
 "metadata": {
  "kernelspec": {
   "display_name": "Python 3 (ipykernel)",
   "language": "python",
   "name": "python3"
  },
  "language_info": {
   "codemirror_mode": {
    "name": "ipython",
    "version": 3
   },
   "file_extension": ".py",
   "mimetype": "text/x-python",
   "name": "python",
   "nbconvert_exporter": "python",
   "pygments_lexer": "ipython3",
   "version": "3.9.7"
  }
 },
 "nbformat": 4,
 "nbformat_minor": 5
}
