{
 "cells": [
  {
   "cell_type": "code",
   "execution_count": 2,
   "id": "6b34a4ce",
   "metadata": {},
   "outputs": [
    {
     "name": "stdout",
     "output_type": "stream",
     "text": [
      "Enter the stringeva\n",
      "not a palindrome\n"
     ]
    }
   ],
   "source": [
    "#wap to find palindrome in string:\n",
    "\n",
    "s=input(\"Enter the string\")\n",
    "j=-1\n",
    "for i in s:\n",
    "    if i!=s[j]:\n",
    "        print(\"not a palindrome\")\n",
    "        break\n",
    "    j=j-1\n",
    "else:\n",
    "    print(\"palindrome\")\n"
   ]
  },
  {
   "cell_type": "code",
   "execution_count": null,
   "id": "d631f4dd",
   "metadata": {},
   "outputs": [],
   "source": [
    "#wap to print reverse of string:\n",
    "\n",
    "#1st method:\n",
    "s=input(\"Enter the string\")\n",
    "w=\"\"\n",
    "j=-1\n",
    "for i in s:\n",
    "    #if s[j] not in w:\n",
    "        w=w+s[j]\n",
    "        j=j-1\n",
    "print(\"reverse of string\",w)\n",
    "\n",
    "#2nd method:\n",
    "s='python'[::-1]\n",
    "print(s)\n",
    "\n",
    "    "
   ]
  },
  {
   "cell_type": "code",
   "execution_count": null,
   "id": "74f70161",
   "metadata": {},
   "outputs": [],
   "source": [
    "#wap to find a number divisible by 2 and 3 both:\n",
    "\n",
    "num=int(input(\"Enter the number: \"))\n",
    "if num%2==0 and num%3==0:\n",
    "    print(\"The number is divisible by both 2 and 3\")\n",
    "else:\n",
    "    print(\"Not divisible\")"
   ]
  },
  {
   "cell_type": "code",
   "execution_count": null,
   "id": "43976a94",
   "metadata": {},
   "outputs": [],
   "source": [
    "#wap to find positive and negative number:\n",
    "\n",
    "num=int(input(\"Enter the number: \"))\n",
    "if num<0:\n",
    "    print(\"The number is negative\")\n",
    "else:\n",
    "    print(\"The number is positive\")"
   ]
  },
  {
   "cell_type": "code",
   "execution_count": null,
   "id": "8430491f",
   "metadata": {},
   "outputs": [],
   "source": [
    "#wap to find last digit of a number and check if it is divisible by 3 or not:\n",
    "\n",
    "num=int(input(\"Enter the number: \"))\n",
    "n=num%10\n",
    "print(\"The last digit of a number is: \",n)\n",
    "if n%3==0:\n",
    "    print(\"last digit is divisible by 3\")\n",
    "else:\n",
    "    print(\"not divisible\")"
   ]
  },
  {
   "cell_type": "code",
   "execution_count": null,
   "id": "d6435af7",
   "metadata": {},
   "outputs": [],
   "source": [
    "#wap to find first digit of a number:\n",
    "\n",
    "num=int(input(\"Enter the number: \"))\n",
    "while num>=10:\n",
    "    num=num//10\n",
    "    print(num)\n",
    "    "
   ]
  },
  {
   "cell_type": "code",
   "execution_count": null,
   "id": "4cca67da",
   "metadata": {},
   "outputs": [],
   "source": [
    "#wap to find even and odd using loop in list:\n",
    "\n",
    "a=[12,34,77,11,65,44,90]\n",
    "for i in range(len(a)):\n",
    "    if a[i]%2==0:\n",
    "        print(\"Even: \",a[i])\n",
    "    else:\n",
    "        print(\"odd: \",a[i])"
   ]
  },
  {
   "cell_type": "code",
   "execution_count": null,
   "id": "c1a53c34",
   "metadata": {},
   "outputs": [],
   "source": []
  },
  {
   "cell_type": "code",
   "execution_count": null,
   "id": "1f3a1c63",
   "metadata": {},
   "outputs": [],
   "source": [
    "#wap to merge two list:\n",
    "\n",
    "a=[1,2,3,4,'a']\n",
    "b=[5,5,4]\n",
    "for i in a:\n",
    "    if i not in b:\n",
    "        b=b+a\n",
    "print(b)"
   ]
  },
  {
   "cell_type": "code",
   "execution_count": null,
   "id": "901f7426",
   "metadata": {},
   "outputs": [],
   "source": [
    "#with extend method:\n",
    "a=[1,2,3,4,'a']\n",
    "b=[5,5,4]\n",
    "a.extend(b)\n",
    "print(a)"
   ]
  },
  {
   "cell_type": "code",
   "execution_count": null,
   "id": "56945c9c",
   "metadata": {},
   "outputs": [],
   "source": [
    "#wap to interchange first and last index:\n",
    "\n",
    "a=[1,23,45,100,'shivani']\n",
    "a[0],a[-1]=a[-1],a[0]\n",
    "print(a)\n"
   ]
  },
  {
   "cell_type": "code",
   "execution_count": null,
   "id": "f9762809",
   "metadata": {},
   "outputs": [],
   "source": [
    "#wap to count no. of 7 in a tuple\n",
    "s=(7,70,77,777,7777,-77,72,7)\n",
    "\n",
    "a=s.count(7)\n",
    "print(a)"
   ]
  },
  {
   "cell_type": "code",
   "execution_count": null,
   "id": "a95540b2",
   "metadata": {},
   "outputs": [],
   "source": [
    "#wap to swap of 2 nos. with using 3rd variable:\n",
    "\n",
    "a=3\n",
    "b=4\n",
    "c=b\n",
    "b=a\n",
    "a=c\n",
    "print(a,b)"
   ]
  },
  {
   "cell_type": "code",
   "execution_count": null,
   "id": "5b679643",
   "metadata": {},
   "outputs": [],
   "source": [
    "#wap to swap 2 nos. without using 3rd variable:\n",
    "\n",
    "a=3\n",
    "b=4\n",
    "a,b=b,a\n",
    "print(a,b)"
   ]
  },
  {
   "cell_type": "code",
   "execution_count": null,
   "id": "a85b1acb",
   "metadata": {},
   "outputs": [],
   "source": [
    "#wap to subtract or remove an uncommon element from list:\n",
    "\n",
    "a=[1,3,5,7,6,8]\n",
    "b=[1,3,5,7]\n",
    "c=[]\n",
    "for i in a:\n",
    "    if i not in b:\n",
    "        c.append(i)\n",
    "print(c)"
   ]
  },
  {
   "cell_type": "code",
   "execution_count": null,
   "id": "3050e5cc",
   "metadata": {},
   "outputs": [],
   "source": [
    "#wap to find sum of element in a list:\n",
    "\n",
    "a=[23,44,55,67]\n",
    "sum=0\n",
    "for i in a:\n",
    "    sum=sum+i\n",
    "print(sum)"
   ]
  },
  {
   "cell_type": "code",
   "execution_count": null,
   "id": "5140b9ba",
   "metadata": {},
   "outputs": [],
   "source": [
    "#wap to get list as an input from user:\n",
    "\n",
    "l = []\n",
    "n = int(input(\"Enter number of elements : \"))\n",
    "for i in range(n):\n",
    "     l.append(int(input('Enter the numbers'))) \n",
    "print(l)"
   ]
  },
  {
   "cell_type": "code",
   "execution_count": null,
   "id": "196af03d",
   "metadata": {},
   "outputs": [],
   "source": [
    "#wap to remove duplicate elements from a list:\n",
    "\n",
    "a=[12,33,45,33,10,12]\n",
    "b=[]\n",
    "for i in a:\n",
    "    if a.count(i)==1:\n",
    "        b.append(i)\n",
    "print(b)\n"
   ]
  },
  {
   "cell_type": "code",
   "execution_count": 1,
   "id": "4c57d448",
   "metadata": {},
   "outputs": [
    {
     "name": "stdout",
     "output_type": "stream",
     "text": [
      "2 4 4 4 7 7 7 9 "
     ]
    }
   ],
   "source": [
    "#wap to print a list containing nos.odd no. of times:\n",
    "\n",
    "a=[1,1,2,3,3,4,4,4,7,7,7,9]\n",
    "for i in a:\n",
    "    if a.count(i)%2!=0:\n",
    "        print(i,end=\" \")\n",
    "        \n"
   ]
  },
  {
   "cell_type": "code",
   "execution_count": null,
   "id": "1d256482",
   "metadata": {},
   "outputs": [],
   "source": [
    "#wap to count a string elements:\n",
    "\n",
    "s='abcdef68oihfejfojf '\n",
    "for i in range(len(s)):\n",
    "    i=i+1\n",
    "    print(i)\n",
    "    "
   ]
  },
  {
   "cell_type": "code",
   "execution_count": null,
   "id": "e54f788c",
   "metadata": {},
   "outputs": [],
   "source": [
    "#wap to remove element from the list:\n",
    "\n",
    "a=[12,33,40,100,50,68]\n",
    "for i in a:\n",
    "    a.remove(200)\n",
    "    print(a)\n",
    "\n"
   ]
  },
  {
   "cell_type": "code",
   "execution_count": null,
   "id": "97be76b0",
   "metadata": {},
   "outputs": [],
   "source": [
    "#wap to find the lists consist of atleast one common element:\n",
    "\n",
    "a=[4,5,6,7,8]\n",
    "b=[12,6,8,22]\n",
    "for i in a:\n",
    "    if i in b:\n",
    "        print(i)\n"
   ]
  },
  {
   "cell_type": "code",
   "execution_count": null,
   "id": "7e36c647",
   "metadata": {},
   "outputs": [],
   "source": [
    "#wap to print string'Javatpoint' after removing 'a' from it:\n",
    "\n",
    "s='Javatpoint'\n",
    "w=''\n",
    "for i in s:\n",
    "    if i!='a':\n",
    "        w=w+i\n",
    "print(w)"
   ]
  },
  {
   "cell_type": "code",
   "execution_count": null,
   "id": "936ed0e9",
   "metadata": {},
   "outputs": [],
   "source": [
    "#using while loop:\n",
    "s='Javatpoint'\n",
    "i=0\n",
    "while i<=len(s):\n",
    "    if s[i]=='a':\n",
    "        i+=1\n",
    "        continue\n",
    "    print(s[i])\n",
    "    i=i+1\n",
    "          \n"
   ]
  },
  {
   "cell_type": "code",
   "execution_count": null,
   "id": "09fbda60",
   "metadata": {},
   "outputs": [],
   "source": [
    "#3rd method:\n",
    "s='javatpoint'\n",
    "i=0\n",
    "w=''\n",
    "while i<len(s):\n",
    "    if s[i]!='a':\n",
    "        w=w+s[i]\n",
    "        i=i+1\n",
    "        print(w)\n",
    "\n"
   ]
  },
  {
   "cell_type": "code",
   "execution_count": null,
   "id": "5b5d362f",
   "metadata": {},
   "outputs": [],
   "source": [
    "#wap to remove ith character in string:\n",
    "\n",
    "a=''\n",
    "s='newwwyork'\n",
    "for i in range(len(s)):\n",
    "    if i!=2:\n",
    "        a=a+s[i]\n",
    "    print(a)"
   ]
  },
  {
   "cell_type": "code",
   "execution_count": null,
   "id": "e0491fb4",
   "metadata": {},
   "outputs": [],
   "source": [
    "#pgm to print patterns:\n",
    "n=int(input('Enter the number: '))\n",
    "for i in range(1,n+1):\n",
    "    for j in range(1,i+1):\n",
    "        print('*',end='')\n",
    "        \n",
    "    print('\\n')\n"
   ]
  },
  {
   "cell_type": "code",
   "execution_count": null,
   "id": "ccb645a7",
   "metadata": {},
   "outputs": [],
   "source": [
    "n=int(input('Enter the number: '))\n",
    "for i in range(1,n+1):\n",
    "    for k in range(1,n+1-i):\n",
    "        print(' ',end='')\n",
    "    for j in range(1,i+1):\n",
    "        print('*',end='')\n",
    "    print('\\n')"
   ]
  },
  {
   "cell_type": "code",
   "execution_count": null,
   "id": "42343e69",
   "metadata": {},
   "outputs": [],
   "source": [
    "n=int(input('Enter the number: '))\n",
    "for i in range(n,0,-1):\n",
    "    for j in range(1,i+1):\n",
    "        print('*',end='')\n",
    "    print('\\n')"
   ]
  },
  {
   "cell_type": "code",
   "execution_count": null,
   "id": "01bcb13d",
   "metadata": {},
   "outputs": [],
   "source": [
    "n=int(input('Enter the number: '))\n",
    "for i in range(n,0,-1):\n",
    "    for k in range(0,n-i):\n",
    "        print(' ',end='')\n",
    "    for j in range(1,i+1):\n",
    "        print('*',end='')\n",
    "    print('\\n')"
   ]
  },
  {
   "cell_type": "code",
   "execution_count": null,
   "id": "243bb43e",
   "metadata": {},
   "outputs": [],
   "source": [
    "n=int(input('Enter the number: '))\n",
    "for i in range(1,n):\n",
    "    for j in range(1,n):\n",
    "        print('*',end='')\n",
    "    print('\\n')\n"
   ]
  },
  {
   "cell_type": "code",
   "execution_count": null,
   "id": "a14099a5",
   "metadata": {},
   "outputs": [],
   "source": [
    "for i in range(1,6):\n",
    "    for k in range(1,6-i):\n",
    "        print(' ',end='')\n",
    "    for j in range(1,2*i+1):\n",
    "        print('x',end='')\n",
    "    print('\\n')"
   ]
  },
  {
   "cell_type": "code",
   "execution_count": null,
   "id": "6353a12e",
   "metadata": {},
   "outputs": [],
   "source": [
    "for i in range(5,0,-1):\n",
    "    for k in range(1,6-i):\n",
    "        print(' ',end='')\n",
    "    for j in range(1,2*i+1):\n",
    "        print('x',end='')\n",
    "    print('\\n')"
   ]
  },
  {
   "cell_type": "code",
   "execution_count": null,
   "id": "eb51dee9",
   "metadata": {},
   "outputs": [],
   "source": [
    "for i in range(1,6):\n",
    "    for k in range(1,6-i):\n",
    "        print(' ',end='')\n",
    "    for j in range(1,2*i+1):\n",
    "        print('*',end='')\n",
    "    print('\\n')\n",
    "for i in range(5,0,-1):\n",
    "    for k in range(1,6-i):\n",
    "        print(' ',end='')\n",
    "    for j in range(1,2*i+1):\n",
    "        print('*',end='')\n",
    "    print('\\n')"
   ]
  },
  {
   "cell_type": "code",
   "execution_count": null,
   "id": "ca5f1c52",
   "metadata": {},
   "outputs": [],
   "source": [
    "#ask a user for name and print the name and count of each words using while loop:\n",
    "name=input(\"Enter the name: \")\n",
    "i=0\n",
    "count=0\n",
    "while i<len(name):\n",
    "    count=count+1\n",
    "    i+=1\n",
    "    print(count)"
   ]
  },
  {
   "cell_type": "code",
   "execution_count": null,
   "id": "bc2eed10",
   "metadata": {},
   "outputs": [],
   "source": [
    "#wap to make a car of class and find its total cost where basic price is 2000000 road tax is 20% and on road price is \n",
    "#increased by 17 %\n",
    "class car:\n",
    "    def cost(self,basic_price):\n",
    "        road_tax=(basic_price*20)/100\n",
    "        print('Road tax: ',road_tax)\n",
    "        on_road_price=basic_price+road_tax\n",
    "        print('On road price: ',on_road_price)\n",
    "        on_road_new_price=(on_road_price*17)/100\n",
    "        print('Increased on road price: ',on_road_new_price)\n",
    "        total_cost=basic_price+road_tax+on_road_new_price\n",
    "        print('Total cost of car: ',total_cost)\n",
    "z=car()\n",
    "z.cost(2000000)"
   ]
  },
  {
   "cell_type": "code",
   "execution_count": null,
   "id": "6d4c21f7",
   "metadata": {},
   "outputs": [],
   "source": [
    "#wap to make a class of simplification and use + - % / * to claculate values of properties.\n",
    "class simplification:\n",
    "    def operators(self,a,b):\n",
    "        add=a+b\n",
    "        print('Addition',add)\n",
    "        sub=a-b\n",
    "        print('Subtraction',sub)\n",
    "        mul=a*b\n",
    "        print('Multiplication',mul)\n",
    "        div=a/b\n",
    "        print('Division',div)\n",
    "        mod=a%b\n",
    "        print('Modulus',mod)\n",
    "x=simplification()\n",
    "x.operators(6,5)"
   ]
  },
  {
   "cell_type": "code",
   "execution_count": null,
   "id": "ecbdcf6f",
   "metadata": {},
   "outputs": [],
   "source": [
    "#wap to make a class of emoloyee and clacualte its per year salary...Monthly salary -20000\n",
    "class employee:\n",
    "    monthly_salary=20000\n",
    "    per_year_sal=20000*12\n",
    "    print(\"Per year salary: \",per_year_sal)\n",
    "x=employee()\n",
    "    "
   ]
  },
  {
   "cell_type": "code",
   "execution_count": null,
   "id": "f1142776",
   "metadata": {},
   "outputs": [],
   "source": [
    "#Write a program to find the sum of the digits of a number in Python?\n",
    "num=input('Enter the no.')\n",
    "sum=0\n",
    "for i in num:\n",
    "    sum=sum+int(i)\n",
    "print(sum)"
   ]
  },
  {
   "cell_type": "code",
   "execution_count": null,
   "id": "658b3427",
   "metadata": {},
   "outputs": [],
   "source": [
    "#year is leap year or not,\n",
    "year=int(input('Enter the year'))\n",
    "if year%4==0:\n",
    "    print('The year is leap year')\n",
    "else:\n",
    "    print('Not a leap year')"
   ]
  },
  {
   "cell_type": "code",
   "execution_count": null,
   "id": "f9b87519",
   "metadata": {},
   "outputs": [],
   "source": [
    "#Input the electricity unit charge  & calculate the  total electric bill according to given condition.\n",
    "#For first 50 units Rs. 0.50/unit\n",
    "#For next 100 units Rs. 0.75/unit\n",
    "#For next 100 units Rs. 1.20/unit\n",
    "#For unit above 250 Rs. 1.50/unit\n",
    "#An additional surcharge of 20% is added to the bill\n",
    "e_unit=int(input('Enter the electricity unit'))\n",
    "if e_unit<=50:\n",
    "    b=e_unit*0.50\n",
    "    print('Total electric bill: ',b)\n",
    "elif e_unit>50 and e_unit<=150:\n",
    "    c=50*0.5+(e_unit-50)*0.75\n",
    "    total_bill=c+20/100\n",
    "    print(\"Total electric bill: \",total_bill)\n",
    "elif e_unit>150 and e_unit<=250:\n",
    "    d=50*0.5+(150-50)*0.75+(e_unit-150)*1.2\n",
    "    total_bill=d+20/100\n",
    "    print(\"Total electric bill: \",total_bill)\n",
    "elif e_unit>250: \n",
    "    e=50*0.5+(150-50)*0.75+(250-150)*1.2+(e_unit-250)*1.5\n",
    "    total_bill=e+20/100\n",
    "    print(\"Total electric bill: \",total_bill)\n"
   ]
  },
  {
   "cell_type": "code",
   "execution_count": null,
   "id": "9c129c7a",
   "metadata": {},
   "outputs": [],
   "source": [
    "#pgm to input basic salary and calculate gross salary:\n",
    "basic_salary=int(input(\"Enter the basic salary\"))\n",
    "if basic_salary<=10000:\n",
    "    HRA=basic_salary*0.2\n",
    "    DA=basic_salary*0.8\n",
    "    gross_salary=basic_salary+HRA+DA\n",
    "    print(\"Gross salary: \",gross_salary)\n",
    "elif basic_salary<=20000:\n",
    "    HRA=basic_salary*0.25\n",
    "    DA=basic_salary*0.9\n",
    "    gross_salary=basic_salary+HRA+DA\n",
    "    print(\"Gross salary: \",gross_salary)\n",
    "elif basic_salary>20000:\n",
    "    HRA=basic_salary*0.3\n",
    "    DA=basic_salary*0.95\n",
    "    gross_salary=basic_salary+HRA+DA\n",
    "    print(\"Gross salary: \",gross_salary)\n",
    "else:\n",
    "    print(\"invalid input\")"
   ]
  },
  {
   "cell_type": "code",
   "execution_count": null,
   "id": "3228e306",
   "metadata": {},
   "outputs": [],
   "source": [
    "#pgm to calculate profit and loss\n",
    "sell_price=200\n",
    "cost_price=150\n",
    "profit=sell_price-cost_price\n",
    "print(\"profit is: \",profit)\n",
    "loss=cost_price-sell_price\n",
    "print(\"loss is: \",loss)\n"
   ]
  },
  {
   "cell_type": "code",
   "execution_count": null,
   "id": "52d2f667",
   "metadata": {},
   "outputs": [],
   "source": [
    "#wap to sum of all items in dictionary.\n",
    "s={\n",
    "    'a':10,\n",
    "    'b':20,\n",
    "    'c':30\n",
    "}\n",
    "sum=0\n",
    "for x in s.values():\n",
    "    sum=sum+x\n",
    "print(sum)"
   ]
  },
  {
   "cell_type": "code",
   "execution_count": null,
   "id": "aef16483",
   "metadata": {},
   "outputs": [],
   "source": [
    "#wap to sum of all items in dictionary with the help of list.\n",
    "s={'a':10,'b':20,'c':30}\n",
    "sum=0\n",
    "for i in s:\n",
    "    sum+=s[i]\n",
    "print(sum)\n",
    "   \n",
    "    "
   ]
  },
  {
   "cell_type": "code",
   "execution_count": null,
   "id": "2b920dc9",
   "metadata": {},
   "outputs": [],
   "source": [
    "#wap to calculate no. of days in a month.\n",
    "n=int(input(\"Enter the month: 1 for jan,2 for feb,3 for march and so on..\"))\n",
    "if n==1 or n==3 or n==5 or n==7 or n==8 or n==10 or n==12:\n",
    "    print(\"31 days in a month\")\n",
    "elif n==2:\n",
    "        print(\"28 or 29 days in a mpnth\")\n",
    "elif n==4 or n==6 or n==9 or n==11:\n",
    "    print(\"30 days in a month\")\n",
    "else:\n",
    "    print('invalid month')"
   ]
  },
  {
   "cell_type": "code",
   "execution_count": null,
   "id": "40dd5f48",
   "metadata": {},
   "outputs": [],
   "source": [
    "\n",
    "\n"
   ]
  },
  {
   "cell_type": "code",
   "execution_count": null,
   "id": "822b5314",
   "metadata": {},
   "outputs": [],
   "source": [
    "#wap to make a class of simplification and use + - % / * to claculate values of properties with the help of constructor.\n",
    "class simplification:\n",
    "    def operators(self,a,b):\n",
    "        add=a+b\n",
    "        print('Addition',add)\n",
    "        sub=a-b\n",
    "        print('Subtraction',sub)\n",
    "        mul=a*b\n",
    "        print('Multiplication',mul)\n",
    "        div=a/b\n",
    "        print('Division',div)\n",
    "        mod=a%b\n",
    "        print('Modulus',mod)\n",
    "x=simplification()\n",
    "x.operators(6,5)"
   ]
  },
  {
   "cell_type": "code",
   "execution_count": null,
   "id": "a1de9b4e",
   "metadata": {},
   "outputs": [],
   "source": []
  },
  {
   "cell_type": "code",
   "execution_count": null,
   "id": "5d92f0cd",
   "metadata": {},
   "outputs": [],
   "source": []
  },
  {
   "cell_type": "code",
   "execution_count": null,
   "id": "26631960",
   "metadata": {},
   "outputs": [],
   "source": []
  },
  {
   "cell_type": "code",
   "execution_count": null,
   "id": "94c939d4",
   "metadata": {},
   "outputs": [],
   "source": []
  },
  {
   "cell_type": "code",
   "execution_count": null,
   "id": "4998fde3",
   "metadata": {},
   "outputs": [],
   "source": [
    "class student:\n",
    "    def details(self,name,age):\n",
    "        print(name)\n",
    "        print(age)\n",
    "x=student()           # Object is created to allocated memory for name and age\n",
    "x.details('eva',4)\n"
   ]
  },
  {
   "cell_type": "code",
   "execution_count": null,
   "id": "59b91a2b",
   "metadata": {},
   "outputs": [],
   "source": [
    "#wap to convert list into dictionary.\n",
    "def convert(l):\n",
    "        x={l[i]:l[i+1] for i in range(0,len(l),2)}\n",
    "        return x \n",
    "\n",
    "l=['a',1,'b',2,'c',3]\n",
    "y=convert(l)\n",
    "print(y)\n",
    "\n"
   ]
  },
  {
   "cell_type": "code",
   "execution_count": null,
   "id": "1dde416e",
   "metadata": {},
   "outputs": [],
   "source": []
  },
  {
   "cell_type": "code",
   "execution_count": null,
   "id": "23e20ec1",
   "metadata": {},
   "outputs": [],
   "source": []
  },
  {
   "cell_type": "code",
   "execution_count": null,
   "id": "63bc20e4",
   "metadata": {},
   "outputs": [],
   "source": [
    "\n",
    "\n",
    "\n",
    "    "
   ]
  },
  {
   "cell_type": "code",
   "execution_count": null,
   "id": "17d22a9d",
   "metadata": {},
   "outputs": [],
   "source": [
    "\n",
    "        \n"
   ]
  },
  {
   "cell_type": "code",
   "execution_count": null,
   "id": "8240ae59",
   "metadata": {},
   "outputs": [],
   "source": []
  },
  {
   "cell_type": "code",
   "execution_count": null,
   "id": "cd1af74b",
   "metadata": {},
   "outputs": [],
   "source": []
  },
  {
   "cell_type": "code",
   "execution_count": null,
   "id": "14855c64",
   "metadata": {},
   "outputs": [],
   "source": [
    "\n",
    "    \n",
    "    "
   ]
  },
  {
   "cell_type": "code",
   "execution_count": null,
   "id": "faf5180b",
   "metadata": {},
   "outputs": [],
   "source": []
  }
 ],
 "metadata": {
  "kernelspec": {
   "display_name": "Python 3 (ipykernel)",
   "language": "python",
   "name": "python3"
  },
  "language_info": {
   "codemirror_mode": {
    "name": "ipython",
    "version": 3
   },
   "file_extension": ".py",
   "mimetype": "text/x-python",
   "name": "python",
   "nbconvert_exporter": "python",
   "pygments_lexer": "ipython3",
   "version": "3.9.7"
  }
 },
 "nbformat": 4,
 "nbformat_minor": 5
}
