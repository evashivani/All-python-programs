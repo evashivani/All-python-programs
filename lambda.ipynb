{
 "cells": [
  {
   "cell_type": "code",
   "execution_count": 2,
   "id": "01225811",
   "metadata": {},
   "outputs": [
    {
     "name": "stdout",
     "output_type": "stream",
     "text": [
      "16\n"
     ]
    }
   ],
   "source": [
    "#wap to find the square of a number.\n",
    "\n",
    "x=lambda a:a**2\n",
    "print(x(4))"
   ]
  },
  {
   "cell_type": "code",
   "execution_count": 4,
   "id": "b983ac45",
   "metadata": {},
   "outputs": [
    {
     "data": {
      "text/plain": [
       "4"
      ]
     },
     "execution_count": 4,
     "metadata": {},
     "output_type": "execute_result"
    }
   ],
   "source": [
    "#wap to find the max of two nos.\n",
    "x=lambda a,b: a if a>b else b\n",
    "x(2,4)    "
   ]
  },
  {
   "cell_type": "code",
   "execution_count": 5,
   "id": "d970f063",
   "metadata": {},
   "outputs": [
    {
     "data": {
      "text/plain": [
       "2"
      ]
     },
     "execution_count": 5,
     "metadata": {},
     "output_type": "execute_result"
    }
   ],
   "source": [
    "#wap to get the min of two numbers.\n",
    "x=lambda a,b: a if a<b else b\n",
    "x(2,4)"
   ]
  },
  {
   "cell_type": "code",
   "execution_count": 6,
   "id": "48c2af38",
   "metadata": {},
   "outputs": [
    {
     "data": {
      "text/plain": [
       "1.7999999999999998"
      ]
     },
     "execution_count": 6,
     "metadata": {},
     "output_type": "execute_result"
    }
   ],
   "source": [
    "#wap to get the o/p of (a+b*c+d/e-f)\n",
    "x=lambda a,b,c,d,e,f:a+b*c+d/e-f\n",
    "x(1,2,3,4,5,6)"
   ]
  },
  {
   "cell_type": "code",
   "execution_count": 4,
   "id": "4cdb752d",
   "metadata": {},
   "outputs": [
    {
     "data": {
      "text/plain": [
       "32"
      ]
     },
     "execution_count": 4,
     "metadata": {},
     "output_type": "execute_result"
    }
   ],
   "source": [
    "x=lambda a,b:pow(a,4)+pow(b,4)\n",
    "x(2,2)"
   ]
  },
  {
   "cell_type": "code",
   "execution_count": 9,
   "id": "721d527f",
   "metadata": {},
   "outputs": [
    {
     "name": "stdout",
     "output_type": "stream",
     "text": [
      "[80, 79, 67]\n",
      "[80, 79, 67]\n"
     ]
    }
   ],
   "source": [
    "#filter function\n",
    "#wap to find o/p should be greater than equal to 60 without filter function.\n",
    "a=[80,16,20,56,79,67,34,45]\n",
    "b=[]\n",
    "def fun(a,b):\n",
    "    for i in a:\n",
    "        if i>=60:\n",
    "            b.append(i)\n",
    "    print(b)\n",
    "fun(a,b)\n",
    "\n",
    "#with filter function:\n",
    "a=[80,16,20,56,79,67,34,45]\n",
    "def fun(a):\n",
    "    if a>60:\n",
    "        return True\n",
    "    else:\n",
    "        return False\n",
    "print(list(filter(fun,a)))"
   ]
  },
  {
   "cell_type": "code",
   "execution_count": 18,
   "id": "471c5d18",
   "metadata": {},
   "outputs": [
    {
     "name": "stdout",
     "output_type": "stream",
     "text": [
      "[8, 64, 216, 125, 216]\n"
     ]
    }
   ],
   "source": [
    "#wap to triple all nos.of a given list of integers.use python map.\n",
    "l=[2,4,6,5,6]\n",
    "print(list(map(lambda l:pow(l,3),l)))\n"
   ]
  },
  {
   "cell_type": "code",
   "execution_count": 20,
   "id": "52e53541",
   "metadata": {},
   "outputs": [
    {
     "name": "stdout",
     "output_type": "stream",
     "text": [
      "(6, 9, 12, 15)\n"
     ]
    }
   ],
   "source": [
    "#wap to add  3 given list using lambda and map.\n",
    "a=[1,2,3,4,5]\n",
    "b=[3,4,5,6]\n",
    "c=[2,3,4,5]\n",
    "print(tuple(map(lambda a,b,c:a+b+c,a,b,c)))"
   ]
  },
  {
   "cell_type": "code",
   "execution_count": 21,
   "id": "3606971a",
   "metadata": {},
   "outputs": [
    {
     "name": "stdout",
     "output_type": "stream",
     "text": [
      "[4, 16, 36, 25, 36]\n"
     ]
    }
   ],
   "source": [
    "#wap to find square of list using map and lambda.\n",
    "l=[2,4,6,5,6]\n",
    "print(list(map(lambda l:pow(l,2),l)))"
   ]
  },
  {
   "cell_type": "code",
   "execution_count": 32,
   "id": "f0b223fd",
   "metadata": {},
   "outputs": [
    {
     "name": "stdout",
     "output_type": "stream",
     "text": [
      "highest salary is:  [1000, 2500]\n",
      "double of the highest salary:  [2000, 5000]\n"
     ]
    }
   ],
   "source": [
    "#wap to find the highest salary of some individuals and also try to get the double of the highest salary.\n",
    "a=[1000,300,2500,400,50]\n",
    "x=list(filter(lambda b:True if b>=1000 else False,a))\n",
    "print('highest salary is: ',x)\n",
    "print('double of the highest salary: ',list(map(lambda c:c*2,x)))\n",
    "\n"
   ]
  },
  {
   "cell_type": "code",
   "execution_count": 67,
   "id": "ac416943",
   "metadata": {},
   "outputs": [
    {
     "name": "stdout",
     "output_type": "stream",
     "text": [
      "[3, 16, 9]\n"
     ]
    }
   ],
   "source": [
    "#wap to add 3 nos. in a given list.\n",
    "\n",
    "\n",
    "List = [[2,3,4],[1, 4, 16, 64],[3, 6, 9, 12]]\n",
    " \n",
    "# Sort each sublist\n",
    "sortList = lambda x: (sorted(i) for i in x)\n",
    " \n",
    "# Get the second largest element\n",
    "secondLargest = lambda x, f : [y[len(y)-2] for y in f(x)]\n",
    "res = secondLargest(List, sortList)\n",
    " \n",
    "print(res)"
   ]
  },
  {
   "cell_type": "code",
   "execution_count": 19,
   "id": "664508ee",
   "metadata": {},
   "outputs": [
    {
     "name": "stdout",
     "output_type": "stream",
     "text": [
      "failing marks: 30\n",
      "grace marks:  40\n",
      "failing marks: 23\n",
      "grace marks:  33\n",
      "[]\n"
     ]
    }
   ],
   "source": [
    "#wap to where a student have some certain subject also have some  decent marks but also failed in 2 subjects. your \n",
    "#task is to find the number of failing marks and also try to  give him some grace marking so that he/she \n",
    "#can pass with flying colors.\n",
    "\n",
    "student=[70,80,67,30,23]\n",
    "def grace(student):\n",
    "        if student<31:\n",
    "            print('failing marks:',student)\n",
    "            grace_marks=student+10\n",
    "            print('grace marks: ',grace_marks)\n",
    "print(list(filter(grace,student)))\n",
    "\n"
   ]
  },
  {
   "cell_type": "code",
   "execution_count": 90,
   "id": "c40f5df3",
   "metadata": {},
   "outputs": [
    {
     "name": "stdout",
     "output_type": "stream",
     "text": [
      "[11, 6, 9, 12]\n"
     ]
    }
   ],
   "source": [
    "list = [[2,3,4],[20, 4, 0, 64],[11, 6, 9, 12]]\n",
    "for i in list:\n",
    "    list.sort()\n",
    "print(list[-2])\n",
    "    "
   ]
  },
  {
   "cell_type": "code",
   "execution_count": 14,
   "id": "f0d7dce7",
   "metadata": {},
   "outputs": [
    {
     "name": "stdout",
     "output_type": "stream",
     "text": [
      "['DOG', 'CAT', 'PARROT', 'RABBIT']\n"
     ]
    }
   ],
   "source": [
    "animals = ['dog', 'cat', 'parrot', 'rabbit']\n",
    "uppered_animals = list(map(lambda animal: animal.upper(), animals))\n",
    "print(uppered_animals)"
   ]
  },
  {
   "cell_type": "code",
   "execution_count": 1,
   "id": "7dd13d9c",
   "metadata": {},
   "outputs": [
    {
     "name": "stdout",
     "output_type": "stream",
     "text": [
      "Geeksforgeeks_Is_Best Better\n",
      "geeksforgeeks_is_best better\n"
     ]
    }
   ],
   "source": [
    "s=\"geeksforgeeks_is_best better\"\n",
    "print(s.title())\n",
    "print(s)"
   ]
  },
  {
   "cell_type": "code",
   "execution_count": 8,
   "id": "c112578a",
   "metadata": {},
   "outputs": [
    {
     "data": {
      "text/plain": [
       "15"
      ]
     },
     "execution_count": 8,
     "metadata": {},
     "output_type": "execute_result"
    }
   ],
   "source": [
    "a=[1,2,3,4,5]\n",
    "a[0]+a[1]+a[2]+a[3]+a[4]"
   ]
  },
  {
   "cell_type": "code",
   "execution_count": 71,
   "id": "883670e5",
   "metadata": {},
   "outputs": [
    {
     "name": "stdout",
     "output_type": "stream",
     "text": [
      "15\n"
     ]
    }
   ],
   "source": [
    "from functools import reduce\n",
    "a=[1,2,3,4,5]\n",
    "def sum1(x,y):       #at a time 2 nos. will be add\n",
    "    z=x+y \n",
    "    return z\n",
    "y=reduce(sum1,a)\n",
    "print(y)"
   ]
  },
  {
   "cell_type": "code",
   "execution_count": 17,
   "id": "dfd77642",
   "metadata": {},
   "outputs": [
    {
     "name": "stdout",
     "output_type": "stream",
     "text": [
      "19\n",
      "20\n"
     ]
    }
   ],
   "source": [
    "#Write a Python program to create a lambda function that adds 15 to a given number passed in as an argument, \n",
    "#also create a lambda function that multiplies argument x with argument y and print the result.\n",
    "\n",
    "z=(lambda a:a+15)\n",
    "print(z(4))\n",
    "z=lambda a,b:a*b\n",
    "print(z(4,5))"
   ]
  },
  {
   "cell_type": "code",
   "execution_count": 24,
   "id": "22bb617a",
   "metadata": {},
   "outputs": [
    {
     "name": "stdout",
     "output_type": "stream",
     "text": [
      "multiply:  45\n",
      "double:  30\n",
      "triple:  45\n",
      "quadruple:  60\n",
      "quintuple:  75\n"
     ]
    }
   ],
   "source": [
    "#Write a Python program to create a function that takes one argument, and that argument will be multiplied with an unknown\n",
    "#given number. Go to the editor.Sample Output:\n",
    "#Double the number of 15 = 30\n",
    "#Triple the number of 15 = 45\n",
    "#Quadruple the number of 15 = 60\n",
    "#Quintuple the number 15 = 75\n",
    "\n",
    "z=lambda x:x*15\n",
    "z=lambda x:x*15\n",
    "z=lambda x:x*15\n",
    "z=lambda x:x*15\n",
    "z=lambda x:x*15\n",
    "print('multiply: ',z(3))\n",
    "print('double: ',z(2))\n",
    "print('triple: ',z(3))\n",
    "print('quadruple: ',z(4))\n",
    "print('quintuple: ',z(5))\n"
   ]
  },
  {
   "cell_type": "code",
   "execution_count": 19,
   "id": "f7c41086",
   "metadata": {},
   "outputs": [
    {
     "name": "stdout",
     "output_type": "stream",
     "text": [
      "[2, 4, 6, 8, 10]\n",
      "[1, 3, 5, 7, 9]\n"
     ]
    }
   ],
   "source": [
    "#Write a Python program to filter a list of integers using Lambda.\n",
    "#Original list of integers:\n",
    "#[1, 2, 3, 4, 5, 6, 7, 8, 9, 10]\n",
    "#Even numbers from the said list:\n",
    "#[2, 4, 6, 8, 10]\n",
    "#Odd numbers from the said list:\n",
    "#[1, 3, 5, 7, 9]\n",
    "\n",
    "a=[1,2,3,4,5,6,7,8,9,10]\n",
    "x=list(filter(lambda a:True if a%2==0 else False,a))\n",
    "print(x)\n",
    "x=list(filter(lambda a:True if a%2!=0 else False,a))\n",
    "print(x)"
   ]
  },
  {
   "cell_type": "code",
   "execution_count": 15,
   "id": "55d14552",
   "metadata": {},
   "outputs": [
    {
     "name": "stdout",
     "output_type": "stream",
     "text": [
      "True\n"
     ]
    }
   ],
   "source": [
    "#Write a Python program to check whether a given string is number or not using Lambda.\n",
    "s='90887094'\n",
    "(lambda s: print(s.isdigit()))(s)"
   ]
  },
  {
   "cell_type": "code",
   "execution_count": 2,
   "id": "a3952383",
   "metadata": {},
   "outputs": [
    {
     "name": "stdout",
     "output_type": "stream",
     "text": [
      "[1, 2, 3, 3, 5, 7, 8, 10]\n"
     ]
    }
   ],
   "source": [
    "#Write a Python program to count the even, odd numbers in a given array of integers using Lambda. Go to the editor\n",
    "#Original arrays:[1, 2, 3,3, 5, 7, 8, 9, 10]\n",
    "a=[1,2,3,3,5,7,8,10]\n",
    "z=list(filter(lambda x:[True if x%2==0 else False],a))\n",
    "print(z)\n"
   ]
  },
  {
   "cell_type": "code",
   "execution_count": 69,
   "id": "07913847",
   "metadata": {},
   "outputs": [
    {
     "name": "stdout",
     "output_type": "stream",
     "text": [
      "[5, 7, 9]\n"
     ]
    }
   ],
   "source": [
    "#Write a Python program to add two given lists using map and lambda. \n",
    "#Original list:\n",
    "#[1, 2, 3]\n",
    "#[4, 5, 6]\n",
    "#Result: after adding two list\n",
    "#[5, 7, 9]\n",
    "a=[1,2,3]\n",
    "b=[4,5,6]\n",
    "print(list(map(lambda x,y:x+y,a,b)))"
   ]
  },
  {
   "cell_type": "code",
   "execution_count": 66,
   "id": "25f30951",
   "metadata": {},
   "outputs": [
    {
     "name": "stdout",
     "output_type": "stream",
     "text": [
      "[65, 39]\n",
      "[19, 57, 152, 190]\n",
      "[65, 39, 19, 57, 152, 190]\n"
     ]
    }
   ],
   "source": [
    "#Write a Python program to find numbers divisible by nineteen or thirteen from a list of numbers using Lambda.\n",
    "#Orginal list:\n",
    "#[19, 65, 57, 39, 152, 639, 121, 44, 90, 190]\n",
    "#Numbers of the above list divisible by nineteen or thirteen:\n",
    "#[19, 65, 57, 39, 152, 190]\n",
    "a=[19,65,57,39,152,639,121,44,90,190]\n",
    "y=list(filter(lambda x:(x%13==0),a))\n",
    "print(y)\n",
    "z=list(filter(lambda y:(y%19==0),a))\n",
    "print(z)\n",
    "l=y+z\n",
    "print(l)"
   ]
  },
  {
   "cell_type": "code",
   "execution_count": 87,
   "id": "983a12c0",
   "metadata": {},
   "outputs": [
    {
     "name": "stdout",
     "output_type": "stream",
     "text": [
      "[4, 8, 12, 18, 22]\n"
     ]
    }
   ],
   "source": [
    "#Write a Python program that multiply each number of given list with a given number using lambda function. Print the result.\n",
    "#Original list: [2, 4, 6, 9, 11]\n",
    "#Given number: 2\n",
    "\n",
    "a=[2,4,6,9,11]\n",
    "x=list(map(lambda y:y*2,a))\n",
    "print(x)\n"
   ]
  },
  {
   "cell_type": "code",
   "execution_count": 3,
   "id": "88eb425c",
   "metadata": {},
   "outputs": [
    {
     "name": "stdout",
     "output_type": "stream",
     "text": [
      "4\n"
     ]
    }
   ],
   "source": [
    "y=(lambda x: x + x)\n",
    "print(y(2))"
   ]
  },
  {
   "cell_type": "code",
   "execution_count": 5,
   "id": "63579bc7",
   "metadata": {},
   "outputs": [
    {
     "data": {
      "text/plain": [
       "'hi how r u'"
      ]
     },
     "execution_count": 5,
     "metadata": {},
     "output_type": "execute_result"
    }
   ],
   "source": [
    "s='hi how r u'\n",
    "lambda s:print(s)\n",
    "s"
   ]
  },
  {
   "cell_type": "code",
   "execution_count": null,
   "id": "bd1c446b",
   "metadata": {},
   "outputs": [],
   "source": []
  }
 ],
 "metadata": {
  "kernelspec": {
   "display_name": "Python 3 (ipykernel)",
   "language": "python",
   "name": "python3"
  },
  "language_info": {
   "codemirror_mode": {
    "name": "ipython",
    "version": 3
   },
   "file_extension": ".py",
   "mimetype": "text/x-python",
   "name": "python",
   "nbconvert_exporter": "python",
   "pygments_lexer": "ipython3",
   "version": "3.9.7"
  }
 },
 "nbformat": 4,
 "nbformat_minor": 5
}
