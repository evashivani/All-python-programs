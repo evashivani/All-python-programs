{
 "cells": [
  {
   "cell_type": "code",
   "execution_count": 4,
   "id": "ee097e7e",
   "metadata": {},
   "outputs": [
    {
     "name": "stdout",
     "output_type": "stream",
     "text": [
      "7\n",
      "6\n"
     ]
    }
   ],
   "source": [
    "#method overloading\n",
    "class hi:\n",
    "    def hello(self,a,b,c=3):\n",
    "        print(a+b+c)\n",
    "h=hi()\n",
    "h.hello(1,2,4)\n",
    "h.hello(1,2)\n"
   ]
  },
  {
   "cell_type": "code",
   "execution_count": 8,
   "id": "da2b1cb1",
   "metadata": {},
   "outputs": [
    {
     "name": "stdout",
     "output_type": "stream",
     "text": [
      "car\n"
     ]
    }
   ],
   "source": [
    "#Method overriding\n",
    "class x:\n",
    "    def car(self,a):\n",
    "        print('bike')\n",
    "class y:\n",
    "    def car(self,a):\n",
    "        print('car')\n",
    "o=y()\n",
    "o.car(1)\n"
   ]
  },
  {
   "cell_type": "code",
   "execution_count": 12,
   "id": "fca12263",
   "metadata": {},
   "outputs": [
    {
     "name": "stdout",
     "output_type": "stream",
     "text": [
      "peacock can fly\n",
      "I am a bird\n",
      "I am a bird\n",
      "I cannot fly\n"
     ]
    }
   ],
   "source": [
    "#method overriding\n",
    "class bird:\n",
    "    def intro(self):\n",
    "        print('I am a bird')\n",
    "    def fly(self):\n",
    "        print('birds fly')\n",
    "class peacock(bird):\n",
    "    def fly(self):\n",
    "        print('peacock can fly')\n",
    "class ostrich(bird):\n",
    "    def fly(self):\n",
    "        print('I cannot fly')\n",
    "p=peacock()\n",
    "p.fly()\n",
    "p.intro()\n",
    "\n",
    "o=ostrich()\n",
    "o.intro()\n",
    "o.fly()\n",
    "    "
   ]
  },
  {
   "cell_type": "code",
   "execution_count": null,
   "id": "6db8ef3e",
   "metadata": {},
   "outputs": [],
   "source": []
  },
  {
   "cell_type": "code",
   "execution_count": null,
   "id": "12b42a91",
   "metadata": {},
   "outputs": [],
   "source": []
  }
 ],
 "metadata": {
  "kernelspec": {
   "display_name": "Python 3 (ipykernel)",
   "language": "python",
   "name": "python3"
  },
  "language_info": {
   "codemirror_mode": {
    "name": "ipython",
    "version": 3
   },
   "file_extension": ".py",
   "mimetype": "text/x-python",
   "name": "python",
   "nbconvert_exporter": "python",
   "pygments_lexer": "ipython3",
   "version": "3.9.7"
  }
 },
 "nbformat": 4,
 "nbformat_minor": 5
}
