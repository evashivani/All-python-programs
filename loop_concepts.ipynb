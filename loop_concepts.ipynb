{
 "cells": [
  {
   "cell_type": "code",
   "execution_count": null,
   "id": "46d23c02",
   "metadata": {},
   "outputs": [],
   "source": [
    "i = 0\n",
    "while i < 6:\n",
    "  i += 1\n",
    "  if i == 3:\n",
    "    continue\n",
    "  print(i,end=\" \")        "
   ]
  },
  {
   "cell_type": "code",
   "execution_count": null,
   "id": "5f767838",
   "metadata": {},
   "outputs": [],
   "source": [
    "i=1                                        \n",
    "while i<6:\n",
    "    print(i,end=\" \")\n",
    "    if (i==3):\n",
    "        break\n",
    "    i=i+1\n"
   ]
  },
  {
   "cell_type": "code",
   "execution_count": null,
   "id": "9f893045",
   "metadata": {},
   "outputs": [],
   "source": [
    "i=1\n",
    "while i<6:  \n",
    "    if (i==3):\n",
    "        continue\n",
    "        print(i,end=\" \")\n",
    "        i=i+1\n"
   ]
  },
  {
   "cell_type": "code",
   "execution_count": 5,
   "id": "57c6634c",
   "metadata": {},
   "outputs": [
    {
     "name": "stdout",
     "output_type": "stream",
     "text": [
      "1\n"
     ]
    }
   ],
   "source": [
    "for i in range(1,5,10):\n",
    "    print(i)"
   ]
  },
  {
   "cell_type": "code",
   "execution_count": 17,
   "id": "3e1e8e7b",
   "metadata": {},
   "outputs": [
    {
     "name": "stdout",
     "output_type": "stream",
     "text": [
      "x \n",
      "\n",
      "x x \n",
      "\n",
      "x x x \n",
      "\n",
      "x x x x \n",
      "\n",
      "x x x x x \n",
      "\n"
     ]
    }
   ],
   "source": [
    "for i in range(0,5):\n",
    "    for j in range(0,i+1):\n",
    "        print(\"x\",end=\" \")\n",
    "    print(\"\\n\")"
   ]
  },
  {
   "cell_type": "code",
   "execution_count": 19,
   "id": "0725837c",
   "metadata": {},
   "outputs": [
    {
     "name": "stdout",
     "output_type": "stream",
     "text": [
      "x x x x x \n",
      "\n",
      "x x x x \n",
      "\n",
      "x x x \n",
      "\n",
      "x x \n",
      "\n",
      "x \n",
      "\n"
     ]
    }
   ],
   "source": [
    "for i in range(5,0,-1):\n",
    "    for j in range(1,i+1):\n",
    "        print(\"x\",end=\" \")\n",
    "    print(\"\\n\")"
   ]
  },
  {
   "cell_type": "code",
   "execution_count": 32,
   "id": "99b2ff09",
   "metadata": {},
   "outputs": [
    {
     "name": "stdout",
     "output_type": "stream",
     "text": [
      "      x \n",
      "\n",
      "    x x \n",
      "\n",
      "  x x x \n",
      "\n",
      "x x x x \n",
      "\n"
     ]
    }
   ],
   "source": [
    "for i in range(1,5):\n",
    "    for k in range(1,5-i):\n",
    "        print(\" \",end=\" \")\n",
    "    for j in range(1,i+1):\n",
    "        print(\"x\",end=\" \")\n",
    "    print(\"\\n\")"
   ]
  },
  {
   "cell_type": "code",
   "execution_count": 37,
   "id": "c4dc76cd",
   "metadata": {},
   "outputs": [
    {
     "name": "stdout",
     "output_type": "stream",
     "text": [
      "x x x x x \n",
      "\n",
      "  x x x x \n",
      "\n",
      "    x x x \n",
      "\n",
      "      x x \n",
      "\n",
      "        x \n",
      "\n"
     ]
    }
   ],
   "source": [
    "for i in range(5,0,-1):\n",
    "    for k in range(0,5-i):\n",
    "        print(\" \",end=\" \")\n",
    "    for j in range(1,i+1):\n",
    "        print(\"x\",end=\" \")\n",
    "    print(\"\\n\")"
   ]
  },
  {
   "cell_type": "code",
   "execution_count": 39,
   "id": "5667e064",
   "metadata": {},
   "outputs": [
    {
     "name": "stdout",
     "output_type": "stream",
     "text": [
      "x x x x x \n",
      "\n",
      "x x x x x \n",
      "\n",
      "x x x x x \n",
      "\n",
      "x x x x x \n",
      "\n",
      "x x x x x \n",
      "\n"
     ]
    }
   ],
   "source": [
    "for i in range(1,6):\n",
    "    for j in range(5):\n",
    "        print(\"x\",end=\" \")\n",
    "    print(\"\\n\")"
   ]
  },
  {
   "cell_type": "code",
   "execution_count": 2,
   "id": "274253e0",
   "metadata": {},
   "outputs": [
    {
     "name": "stdout",
     "output_type": "stream",
     "text": [
      "6\n"
     ]
    }
   ],
   "source": [
    "a=56\n",
    "c=a%10\n",
    "print(c)"
   ]
  },
  {
   "cell_type": "code",
   "execution_count": null,
   "id": "147c0ea0",
   "metadata": {},
   "outputs": [],
   "source": [
    "x=235\n",
    "x%10\n",
    "print(x)\n"
   ]
  },
  {
   "cell_type": "code",
   "execution_count": 2,
   "id": "a90d6715",
   "metadata": {},
   "outputs": [
    {
     "name": "stdout",
     "output_type": "stream",
     "text": [
      "brand model year "
     ]
    }
   ],
   "source": [
    "thisdict = {\n",
    "  \"brand\": \"Ford\",\n",
    "  \"model\": \"Mustang\",\n",
    "  \"year\": 1964\n",
    "}\n",
    "for i in thisdict:\n",
    "    print(i,end=\" \")\n",
    "\n"
   ]
  },
  {
   "cell_type": "code",
   "execution_count": 7,
   "id": "2d386b74",
   "metadata": {},
   "outputs": [
    {
     "name": "stdout",
     "output_type": "stream",
     "text": [
      "{'brand': 'Ford', 'model': 'Mustang', 'year': 1964}\n"
     ]
    }
   ],
   "source": [
    "thisdict = {\n",
    "  \"brand\": \"Ford\",\n",
    "  \"model\": \"Mustang\",\n",
    "  \"year\": 1964\n",
    "}\n",
    "new_dict={}\n",
    "new_dict=thisdict.copy()\n",
    "print(new_dict)\n",
    " "
   ]
  },
  {
   "cell_type": "code",
   "execution_count": 1,
   "id": "9b7419b5",
   "metadata": {},
   "outputs": [
    {
     "name": "stdout",
     "output_type": "stream",
     "text": [
      "Welcome to function\n"
     ]
    }
   ],
   "source": [
    "#function:\n",
    "\n",
    "def s():\n",
    "    print(\"Welcome to function\")\n",
    "s()"
   ]
  },
  {
   "cell_type": "code",
   "execution_count": 2,
   "id": "dab35687",
   "metadata": {},
   "outputs": [
    {
     "name": "stdout",
     "output_type": "stream",
     "text": [
      "11\n"
     ]
    }
   ],
   "source": [
    "#wap to add two nos.and print o/p:\n",
    "def add(a,b):\n",
    "    c=a+b\n",
    "    print(c)\n",
    "add(5,6)"
   ]
  },
  {
   "cell_type": "code",
   "execution_count": 3,
   "id": "60ead370",
   "metadata": {},
   "outputs": [
    {
     "name": "stdout",
     "output_type": "stream",
     "text": [
      "12\n"
     ]
    }
   ],
   "source": [
    "#wap to find max from 3 nos. using function.\n",
    "#min no.\n",
    "#sum of all nos. present in a list\n",
    "#string is reverse or not\n",
    "#odd no\n",
    "#even no.\n",
    "#palindrome\n",
    "#sum of n natural nos.\n",
    "\n",
    "def greater(a,b,c):\n",
    "    if a>b and a>c:\n",
    "        print(a)\n",
    "    elif b>a and b>c:\n",
    "        print(b)\n",
    "    elif c>a and c>b:\n",
    "        print(c)\n",
    "greater(12,3,8)    \n",
    "    "
   ]
  },
  {
   "cell_type": "code",
   "execution_count": 7,
   "id": "3e095ad3",
   "metadata": {},
   "outputs": [
    {
     "name": "stdout",
     "output_type": "stream",
     "text": [
      "3\n"
     ]
    }
   ],
   "source": [
    "def smaller(a,b,c):\n",
    "    if a<b and a<c:\n",
    "        print(a)\n",
    "    elif b<a and b<c:\n",
    "        print(b)\n",
    "    elif c<a and c<b:\n",
    "        print(c)\n",
    "smaller(12,3,8)    "
   ]
  },
  {
   "cell_type": "code",
   "execution_count": 9,
   "id": "8f79355a",
   "metadata": {},
   "outputs": [
    {
     "name": "stdout",
     "output_type": "stream",
     "text": [
      "odd\n"
     ]
    }
   ],
   "source": [
    "def even(a):\n",
    "    if a%2==0:\n",
    "        print(\"even\")\n",
    "    else:\n",
    "        print(\"odd\")\n",
    "even(9)    "
   ]
  },
  {
   "cell_type": "code",
   "execution_count": 34,
   "id": "aa978e84",
   "metadata": {},
   "outputs": [
    {
     "name": "stdout",
     "output_type": "stream",
     "text": [
      "24\n"
     ]
    }
   ],
   "source": [
    "def plus(l):\n",
    "    sum=0\n",
    "    for i in l:\n",
    "        \n",
    "        sum=sum+i\n",
    "    print(sum)\n",
    "\n",
    "l=[1,3,5,7,8]\n",
    "plus(l)"
   ]
  },
  {
   "cell_type": "code",
   "execution_count": 21,
   "id": "2c5d11f7",
   "metadata": {},
   "outputs": [
    {
     "name": "stdout",
     "output_type": "stream",
     "text": [
      "malayalam\n",
      "palindrome\n"
     ]
    }
   ],
   "source": [
    "def palindrome(s):\n",
    "    w=''\n",
    "    j=-1\n",
    "    for i in s:\n",
    "        w=w+s[j]\n",
    "        j=j-1\n",
    "    print(w)\n",
    "    if s==w:\n",
    "        print('palindrome')\n",
    "    else:\n",
    "        print(\"not a palindrome\")\n",
    "        \n",
    "    \n",
    "#s='malayalam'    \n",
    "palindrome('malayalam')"
   ]
  },
  {
   "cell_type": "code",
   "execution_count": 37,
   "id": "99f9925e",
   "metadata": {},
   "outputs": [
    {
     "name": "stdout",
     "output_type": "stream",
     "text": [
      "nohtyp\n",
      "reverse\n"
     ]
    }
   ],
   "source": [
    "def reverse(s):\n",
    "    w=''\n",
    "    #j=-1\n",
    "    for i in s:\n",
    "        w=i+w\n",
    "        #j=j-1\n",
    "    print(w)\n",
    "    if s==w:\n",
    "        print('not reverse')\n",
    "    else:\n",
    "        print('reverse')\n",
    "    \n",
    "reverse('python')"
   ]
  },
  {
   "cell_type": "code",
   "execution_count": 2,
   "id": "e45510f7",
   "metadata": {},
   "outputs": [
    {
     "name": "stdout",
     "output_type": "stream",
     "text": [
      "55\n"
     ]
    }
   ],
   "source": [
    "def natural(n):\n",
    "    sum=0\n",
    "    for i in range(n+1):\n",
    "        sum=sum+i\n",
    "    print(sum)\n",
    "    \n",
    "natural(10)"
   ]
  },
  {
   "cell_type": "code",
   "execution_count": 4,
   "id": "86277cec",
   "metadata": {},
   "outputs": [
    {
     "name": "stdout",
     "output_type": "stream",
     "text": [
      "{'apple', 'banana', 'kiwi', 'orange'}\n"
     ]
    }
   ],
   "source": [
    "fruits={'apple','banana','orange'}\n",
    "fruits.add('kiwi')\n",
    "print(fruits)"
   ]
  },
  {
   "cell_type": "code",
   "execution_count": 5,
   "id": "1a2a1190",
   "metadata": {},
   "outputs": [
    {
     "name": "stdout",
     "output_type": "stream",
     "text": [
      "{'apple', 'banana', 'orange'}\n"
     ]
    }
   ],
   "source": [
    "fruits={'apple','banana','orange'}\n",
    "x=fruits.copy()\n",
    "print(x)"
   ]
  },
  {
   "cell_type": "code",
   "execution_count": 8,
   "id": "a160f0fa",
   "metadata": {},
   "outputs": [
    {
     "name": "stdout",
     "output_type": "stream",
     "text": [
      "{1, 3}\n"
     ]
    }
   ],
   "source": [
    "a={1,2,3,4}\n",
    "b={4,5,6,2}\n",
    "a.difference_update(b)\n",
    "print(a)"
   ]
  },
  {
   "cell_type": "code",
   "execution_count": 2,
   "id": "aa02799c",
   "metadata": {},
   "outputs": [
    {
     "name": "stdout",
     "output_type": "stream",
     "text": [
      "The percentage of student 9000.0\n",
      "The percentage of student 7200.0\n",
      "The percentage of student 5800.0\n",
      "The percentage of student 3560.0\n",
      "The percentage of student 7980.0\n"
     ]
    }
   ],
   "source": [
    "# Wap to calculate the percentage of 5 students??\n",
    "\n",
    "\n",
    "# Wap to find the area and perimeter of circle and also try to find\n",
    "# if this circle is going to be square or not?\n",
    "\n",
    "# Calculate the total area of a land having l=20 b=30.If the land\n",
    "# is greater than 100sq fit then also calculate the cost of \n",
    "# remaining land. Price of land is 20000K.\n",
    "\n",
    "def perc(m):\n",
    "    avg_marks=0\n",
    "    for i in marks:\n",
    "        avg_marks=(i/5)*100\n",
    "        print(\"The percentage of student\",avg_marks)\n",
    "        \n",
    "marks=[450,360,290,178,399]\n",
    "perc(marks)\n",
    "\n",
    "\n"
   ]
  },
  {
   "cell_type": "code",
   "execution_count": 4,
   "id": "04ddfb14",
   "metadata": {},
   "outputs": [
    {
     "name": "stdout",
     "output_type": "stream",
     "text": [
      "15\n"
     ]
    }
   ],
   "source": [
    "a=[1,2,3,4,5]\n",
    "b=sum(a)\n",
    "print(b)"
   ]
  },
  {
   "cell_type": "code",
   "execution_count": 23,
   "id": "27066fe7",
   "metadata": {},
   "outputs": [
    {
     "ename": "NameError",
     "evalue": "name 'area_of_circle' is not defined",
     "output_type": "error",
     "traceback": [
      "\u001b[1;31m---------------------------------------------------------------------------\u001b[0m",
      "\u001b[1;31mNameError\u001b[0m                                 Traceback (most recent call last)",
      "\u001b[1;32m~\\AppData\\Local\\Temp/ipykernel_15628/3379569639.py\u001b[0m in \u001b[0;36m<module>\u001b[1;34m\u001b[0m\n\u001b[0;32m      3\u001b[0m \u001b[0mr\u001b[0m\u001b[1;33m=\u001b[0m\u001b[1;36m5\u001b[0m\u001b[1;33m\u001b[0m\u001b[1;33m\u001b[0m\u001b[0m\n\u001b[0;32m      4\u001b[0m \u001b[0mare_of_circle\u001b[0m\u001b[1;33m=\u001b[0m\u001b[1;36m3.14\u001b[0m\u001b[1;33m*\u001b[0m\u001b[0mr\u001b[0m\u001b[1;33m*\u001b[0m\u001b[0mr\u001b[0m\u001b[1;33m\u001b[0m\u001b[1;33m\u001b[0m\u001b[0m\n\u001b[1;32m----> 5\u001b[1;33m \u001b[0mprint\u001b[0m\u001b[1;33m(\u001b[0m\u001b[1;34m\"area of circle: \"\u001b[0m\u001b[1;33m,\u001b[0m\u001b[0marea_of_circle\u001b[0m\u001b[1;33m)\u001b[0m\u001b[1;33m\u001b[0m\u001b[1;33m\u001b[0m\u001b[0m\n\u001b[0m\u001b[0;32m      6\u001b[0m \u001b[0mperimeter\u001b[0m\u001b[1;33m=\u001b[0m\u001b[1;36m2\u001b[0m\u001b[1;33m*\u001b[0m\u001b[1;36m3.14\u001b[0m\u001b[1;33m*\u001b[0m\u001b[0mr\u001b[0m\u001b[1;33m\u001b[0m\u001b[1;33m\u001b[0m\u001b[0m\n\u001b[0;32m      7\u001b[0m \u001b[0mprint\u001b[0m\u001b[1;33m(\u001b[0m\u001b[1;34m\"perimeter\"\u001b[0m\u001b[1;33m,\u001b[0m\u001b[0mperimeter\u001b[0m\u001b[1;33m)\u001b[0m\u001b[1;33m\u001b[0m\u001b[1;33m\u001b[0m\u001b[0m\n",
      "\u001b[1;31mNameError\u001b[0m: name 'area_of_circle' is not defined"
     ]
    }
   ],
   "source": []
  },
  {
   "cell_type": "code",
   "execution_count": 25,
   "id": "6bea146a",
   "metadata": {},
   "outputs": [
    {
     "name": "stdout",
     "output_type": "stream",
     "text": [
      "area of land:  600\n",
      "10000000\n"
     ]
    }
   ],
   "source": []
  },
  {
   "cell_type": "code",
   "execution_count": null,
   "id": "7162bd1b",
   "metadata": {},
   "outputs": [],
   "source": [
    "# Wap to calculate the percentage of 5 students?\n",
    "def perc():\n",
    "    n=int(input('Enter the no.of student'))\n",
    "    a=[]\n",
    "    add=0\n",
    "    total_marks=80\n",
    "    for i in range(n):\n",
    "        a.append(int(input('Enter the numbers'))) \n",
    "        print(a)\n",
    "        add=add+a[i]\n",
    "    print(add)\n",
    "    per=(add/total_marks)*100\n",
    "    print(per)\n",
    "perc()"
   ]
  },
  {
   "cell_type": "markdown",
   "id": "05eacef2",
   "metadata": {},
   "source": [
    "a[1]"
   ]
  }
 ],
 "metadata": {
  "kernelspec": {
   "display_name": "Python 3 (ipykernel)",
   "language": "python",
   "name": "python3"
  },
  "language_info": {
   "codemirror_mode": {
    "name": "ipython",
    "version": 3
   },
   "file_extension": ".py",
   "mimetype": "text/x-python",
   "name": "python",
   "nbconvert_exporter": "python",
   "pygments_lexer": "ipython3",
   "version": "3.9.7"
  }
 },
 "nbformat": 4,
 "nbformat_minor": 5
}
