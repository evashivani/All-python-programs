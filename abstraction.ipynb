{
 "cells": [
  {
   "cell_type": "code",
   "execution_count": 1,
   "id": "12b50aac",
   "metadata": {},
   "outputs": [
    {
     "data": {
      "text/plain": [
       "2"
      ]
     },
     "execution_count": 1,
     "metadata": {},
     "output_type": "execute_result"
    }
   ],
   "source": [
    "#wap to create a class with instance attribute.\n",
    "class x:\n",
    "    def __init__(self,a,b):\n",
    "        self.a=a\n",
    "        self.b=b\n",
    "obj=x(2,3)\n",
    "obj.a"
   ]
  },
  {
   "cell_type": "code",
   "execution_count": 16,
   "id": "c48f4056",
   "metadata": {},
   "outputs": [],
   "source": [
    "#create a vehicle class without any variable and method.\n",
    "class vehicle:\n",
    "    def __init__(self):\n",
    "        pass\n",
    "\n",
    "v=vehicle()"
   ]
  },
  {
   "cell_type": "code",
   "execution_count": 6,
   "id": "f7686cc4",
   "metadata": {},
   "outputs": [
    {
     "data": {
      "text/plain": [
       "6"
      ]
     },
     "execution_count": 6,
     "metadata": {},
     "output_type": "execute_result"
    }
   ],
   "source": [
    "#cretae a child class but that all inherit all the variables and method of the class.\n",
    "class father:\n",
    "    def __init__(self,height,behaviour):\n",
    "        self.height1=height\n",
    "        self.behaviour1=behaviour\n",
    "class son(father):\n",
    "    def __init__(self,height,behaviour,age):\n",
    "        father.__init__(self,height,behaviour)\n",
    "        self.age1=age\n",
    "s=son(6,'aggressive',30)\n",
    "s.height1"
   ]
  },
  {
   "cell_type": "code",
   "execution_count": 13,
   "id": "b1e86b83",
   "metadata": {},
   "outputs": [
    {
     "data": {
      "text/plain": [
       "20"
      ]
     },
     "execution_count": 13,
     "metadata": {},
     "output_type": "execute_result"
    }
   ],
   "source": [
    "#define a property that must have same value for every class instance object with the help of cons. make a multilevel \n",
    "#inheritance with the help of super method.\n",
    "class father:\n",
    "    def __init__(self,height,behaviour):\n",
    "        self.height1=height\n",
    "        self.behaviour1=behaviour\n",
    "class son(father):\n",
    "    def __init__(self,height,behaviour,age):\n",
    "        super().__init__(height,behaviour)\n",
    "        self.age1=age\n",
    "class grandson(son):\n",
    "    def __init__(self,height,behaviour,age,color):\n",
    "        super().__init__(height,behaviour,age)\n",
    "        self.color1=color\n",
    "g=grandson(6,'aggressive',20,'wheatish')\n",
    "g.age1\n",
    "    "
   ]
  },
  {
   "cell_type": "code",
   "execution_count": 10,
   "id": "1ff2aaad",
   "metadata": {},
   "outputs": [
    {
     "name": "stdout",
     "output_type": "stream",
     "text": [
      "hey\n",
      "8\n"
     ]
    }
   ],
   "source": [
    "#define polymorphism with example:\n",
    "#method over-riding\n",
    "class hi:\n",
    "    def fun(self):\n",
    "        print('hello')\n",
    "class hey(hi):\n",
    "    def fun(self):\n",
    "        print('hey')\n",
    "\n",
    "h=hey()\n",
    "h.fun()\n",
    "\n",
    "#fun overloading\n",
    "class operator:\n",
    "    def fun(self,a,b):\n",
    "        print(a+b)\n",
    "    def fun(self,a,b):\n",
    "        print(a*b)\n",
    "o=operator()\n",
    "o.fun(2,4)"
   ]
  },
  {
   "cell_type": "code",
   "execution_count": 14,
   "id": "615059b0",
   "metadata": {},
   "outputs": [
    {
     "name": "stdout",
     "output_type": "stream",
     "text": [
      "no sides\n",
      "4 sides\n"
     ]
    }
   ],
   "source": [
    "from abc import ABC,abstractmethod    #abc module ,ABC class\n",
    "class shapes(ABC):\n",
    "    def size(self):        #abstract method\n",
    "        none\n",
    "    def __init__(self):\n",
    "        self.a=10\n",
    "        \n",
    "class circle(shapes):\n",
    "    def size(self):\n",
    "        print('no sides')\n",
    "class square(shapes):\n",
    "    def size(self):\n",
    "        print('4 sides')\n",
    "d=shapes()\n",
    "d.a\n",
    "c=circle()\n",
    "c.size()\n",
    "s=square()\n",
    "s.size()"
   ]
  },
  {
   "cell_type": "code",
   "execution_count": 18,
   "id": "92b45b4a",
   "metadata": {},
   "outputs": [
    {
     "name": "stdout",
     "output_type": "stream",
     "text": [
      "1 c\n",
      "{'1': 'c'}\n",
      "1 i\n",
      "{'1': 'i'}\n",
      "1 n\n",
      "{'1': 'n'}\n",
      "1 u\n",
      "{'1': 'u'}\n",
      "4 h\n",
      "{'4': 'h'}\n",
      "1 j\n",
      "{'1': 'j'}\n",
      "1 r\n",
      "{'1': 'r'}\n",
      "1 m\n",
      "{'1': 'm'}\n",
      "1 s\n",
      "{'1': 's'}\n",
      "5 a\n",
      "{'5': 'a'}\n",
      "1 k\n",
      "{'1': 'k'}\n"
     ]
    }
   ],
   "source": [
    "#find out the no. of occurences of each character and store character with its count in dictionary.\n",
    "s='kuchnhisamajhaarha'\n",
    "d={}\n",
    "for i in set(s):\n",
    "    x=s.count(i)\n",
    "    print(x,i)\n",
    "    \n",
    "    d=dict.fromkeys(str(x),str(i))  \n",
    "    print(d)"
   ]
  },
  {
   "cell_type": "code",
   "execution_count": 9,
   "id": "656e83f5",
   "metadata": {},
   "outputs": [
    {
     "name": "stdout",
     "output_type": "stream",
     "text": [
      "name*age*hobby\n"
     ]
    }
   ],
   "source": [
    "#join all items in a dictionary into a string using a separator:\n",
    "d={'name':'eva','age':4,'hobby':'dance'}\n",
    "separator=' '\n",
    "x=('*'.join(d))\n",
    "print(x)"
   ]
  },
  {
   "cell_type": "code",
   "execution_count": 22,
   "id": "13e7b5ef",
   "metadata": {},
   "outputs": [
    {
     "name": "stdout",
     "output_type": "stream",
     "text": [
      "{1: 2, 'a': 's', 'b': 5}\n"
     ]
    }
   ],
   "source": [
    "#list of dictionaries to a single dictionary:\n",
    "l=[{1:2},{'a':'s'},{'b':5}]\n",
    "d={}\n",
    "for i in l:\n",
    "    d.update(i)\n",
    "print(d)"
   ]
  },
  {
   "cell_type": "code",
   "execution_count": null,
   "id": "3b01ac75",
   "metadata": {},
   "outputs": [],
   "source": []
  }
 ],
 "metadata": {
  "kernelspec": {
   "display_name": "Python 3 (ipykernel)",
   "language": "python",
   "name": "python3"
  },
  "language_info": {
   "codemirror_mode": {
    "name": "ipython",
    "version": 3
   },
   "file_extension": ".py",
   "mimetype": "text/x-python",
   "name": "python",
   "nbconvert_exporter": "python",
   "pygments_lexer": "ipython3",
   "version": "3.9.7"
  }
 },
 "nbformat": 4,
 "nbformat_minor": 5
}
