{
 "cells": [
  {
   "cell_type": "code",
   "execution_count": 16,
   "id": "c93bd983",
   "metadata": {},
   "outputs": [
    {
     "name": "stdout",
     "output_type": "stream",
     "text": [
      "3\n",
      "2\n"
     ]
    }
   ],
   "source": [
    "#normal function\n",
    "class count:\n",
    "    def __init__(self):\n",
    "        self.counter=0\n",
    "    def increment(self):\n",
    "        self.counter=self.counter+1\n",
    "    def value(self):\n",
    "        return self.counter\n",
    "   # def reset(self):\n",
    "       # self.counter=0\n",
    "c=count()\n",
    "#c.value()\n",
    "c.increment()\n",
    "c.increment()\n",
    "c.increment()\n",
    "print(c.value())\n",
    "c.counter=2\n",
    "print(c.value())"
   ]
  },
  {
   "cell_type": "code",
   "execution_count": 40,
   "id": "4d6e1ef2",
   "metadata": {},
   "outputs": [
    {
     "name": "stdout",
     "output_type": "stream",
     "text": [
      "1\n"
     ]
    }
   ],
   "source": [
    "#using private attribute '_'\n",
    "class count:\n",
    "    def __init__(self):\n",
    "        self.__counter=0\n",
    "    def increment(self):\n",
    "        self.__counter=self.__counter+1\n",
    "    def value(self):\n",
    "        return self.__counter\n",
    "    def reset(self):\n",
    "        self.counter=0\n",
    "c=count()\n",
    "\n",
    "c.__counter=1\n",
    "\n",
    "print(c.__counter)"
   ]
  },
  {
   "cell_type": "code",
   "execution_count": 41,
   "id": "16b67ffd",
   "metadata": {},
   "outputs": [
    {
     "ename": "AttributeError",
     "evalue": "'c' object has no attribute '_c__counter'",
     "output_type": "error",
     "traceback": [
      "\u001b[1;31m---------------------------------------------------------------------------\u001b[0m",
      "\u001b[1;31mAttributeError\u001b[0m                            Traceback (most recent call last)",
      "\u001b[1;32m~\\AppData\\Local\\Temp/ipykernel_10432/1185743592.py\u001b[0m in \u001b[0;36m<module>\u001b[1;34m\u001b[0m\n\u001b[0;32m     14\u001b[0m \u001b[1;33m\u001b[0m\u001b[0m\n\u001b[0;32m     15\u001b[0m \u001b[0md\u001b[0m\u001b[1;33m=\u001b[0m\u001b[0mc\u001b[0m\u001b[1;33m(\u001b[0m\u001b[1;33m)\u001b[0m\u001b[1;33m\u001b[0m\u001b[1;33m\u001b[0m\u001b[0m\n\u001b[1;32m---> 16\u001b[1;33m \u001b[0md\u001b[0m\u001b[1;33m.\u001b[0m\u001b[0mdisplay\u001b[0m\u001b[1;33m(\u001b[0m\u001b[1;33m)\u001b[0m\u001b[1;33m\u001b[0m\u001b[1;33m\u001b[0m\u001b[0m\n\u001b[0m",
      "\u001b[1;32m~\\AppData\\Local\\Temp/ipykernel_10432/1185743592.py\u001b[0m in \u001b[0;36mdisplay\u001b[1;34m(self)\u001b[0m\n\u001b[0;32m     11\u001b[0m \u001b[1;32mclass\u001b[0m \u001b[0mc\u001b[0m\u001b[1;33m(\u001b[0m\u001b[0mcount\u001b[0m\u001b[1;33m)\u001b[0m\u001b[1;33m:\u001b[0m\u001b[1;33m\u001b[0m\u001b[1;33m\u001b[0m\u001b[0m\n\u001b[0;32m     12\u001b[0m     \u001b[1;32mdef\u001b[0m \u001b[0mdisplay\u001b[0m\u001b[1;33m(\u001b[0m\u001b[0mself\u001b[0m\u001b[1;33m)\u001b[0m\u001b[1;33m:\u001b[0m\u001b[1;33m\u001b[0m\u001b[1;33m\u001b[0m\u001b[0m\n\u001b[1;32m---> 13\u001b[1;33m         \u001b[0mprint\u001b[0m\u001b[1;33m(\u001b[0m\u001b[0mself\u001b[0m\u001b[1;33m.\u001b[0m\u001b[0m__counter\u001b[0m\u001b[1;33m)\u001b[0m\u001b[1;33m\u001b[0m\u001b[1;33m\u001b[0m\u001b[0m\n\u001b[0m\u001b[0;32m     14\u001b[0m \u001b[1;33m\u001b[0m\u001b[0m\n\u001b[0;32m     15\u001b[0m \u001b[0md\u001b[0m\u001b[1;33m=\u001b[0m\u001b[0mc\u001b[0m\u001b[1;33m(\u001b[0m\u001b[1;33m)\u001b[0m\u001b[1;33m\u001b[0m\u001b[1;33m\u001b[0m\u001b[0m\n",
      "\u001b[1;31mAttributeError\u001b[0m: 'c' object has no attribute '_c__counter'"
     ]
    }
   ],
   "source": [
    "#private attributes cannot be access in outside the class\n",
    "class count:\n",
    "    def __init__(self):\n",
    "        self.__counter=0\n",
    "    def increment(self):\n",
    "        self.__counter=self.__counter+1\n",
    "    def value(self):\n",
    "        return self.__counter\n",
    "    def reset(self):\n",
    "        self.__counter=0\n",
    "class c(count):\n",
    "    def display(self):\n",
    "        print(self.__counter)\n",
    "        \n",
    "d=c()\n",
    "d.display()"
   ]
  },
  {
   "cell_type": "code",
   "execution_count": 43,
   "id": "0fcf1702",
   "metadata": {},
   "outputs": [
    {
     "name": "stdout",
     "output_type": "stream",
     "text": [
      "1\n"
     ]
    }
   ],
   "source": [
    "#protected \n",
    "\n",
    "class count:\n",
    "    def __init__(self):\n",
    "        self._counter=0\n",
    "    def increment(self):\n",
    "        self._counter=self._counter+1\n",
    "    def value(self):\n",
    "        return self._counter\n",
    "    def reset(self):\n",
    "        self._counter=0\n",
    "class c(count):\n",
    "    def display(self):\n",
    "        print(self._counter)\n",
    "        \n",
    "d=c()\n",
    "d.increment()\n",
    "d.display()"
   ]
  },
  {
   "cell_type": "code",
   "execution_count": 61,
   "id": "9c8de86a",
   "metadata": {},
   "outputs": [
    {
     "name": "stdout",
     "output_type": "stream",
     "text": [
      "15\n"
     ]
    }
   ],
   "source": [
    "class c:\n",
    "    def __init__(self):\n",
    "        self._a=10\n",
    "class b(c):\n",
    "    def __init__(self):\n",
    "        c.__init__(self)\n",
    "        self.b1=5\n",
    "        self.c=self._a+self.b1\n",
    "        print(self.c)\n",
    "z=b()"
   ]
  },
  {
   "cell_type": "code",
   "execution_count": null,
   "id": "9fef656a",
   "metadata": {},
   "outputs": [],
   "source": []
  }
 ],
 "metadata": {
  "kernelspec": {
   "display_name": "Python 3 (ipykernel)",
   "language": "python",
   "name": "python3"
  },
  "language_info": {
   "codemirror_mode": {
    "name": "ipython",
    "version": 3
   },
   "file_extension": ".py",
   "mimetype": "text/x-python",
   "name": "python",
   "nbconvert_exporter": "python",
   "pygments_lexer": "ipython3",
   "version": "3.9.7"
  }
 },
 "nbformat": 4,
 "nbformat_minor": 5
}
