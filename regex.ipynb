{
 "cells": [
  {
   "cell_type": "code",
   "execution_count": 121,
   "id": "3ccab71d",
   "metadata": {},
   "outputs": [
    {
     "name": "stdout",
     "output_type": "stream",
     "text": [
      "7 11\n"
     ]
    }
   ],
   "source": [
    "import re\n",
    "a='i am a lion and i know it'\n",
    "pattern='lion'\n",
    "for match in re.finditer(pattern,a):\n",
    "    x=match.start()\n",
    "    y=match.end()\n",
    "    print(x,y)"
   ]
  },
  {
   "cell_type": "code",
   "execution_count": 5,
   "id": "d7c2a12f",
   "metadata": {},
   "outputs": [
    {
     "data": {
      "text/plain": [
       "['a', 'a', 'a', 'a', 'a', 'a', 'a']"
      ]
     },
     "execution_count": 5,
     "metadata": {},
     "output_type": "execute_result"
    }
   ],
   "source": [
    "#wap to find all a in the string--->I am a boy who owns a laptop and also having  a phone\n",
    "s='I am a boy who owns a laptop and lso having a phone'\n",
    "re.findall('a',s)"
   ]
  },
  {
   "cell_type": "code",
   "execution_count": 4,
   "id": "f450ac27",
   "metadata": {},
   "outputs": [
    {
     "data": {
      "text/plain": [
       "'I am having a computer which is a smart computer'"
      ]
     },
     "execution_count": 4,
     "metadata": {},
     "output_type": "execute_result"
    }
   ],
   "source": [
    "#wap to match the pattern and also try to replace the value from tv to computer.\n",
    "#string: I am having a tv whih is a smart tv.\n",
    "\n",
    "s='I am having a tv which is a smart tv'\n",
    "re.sub('tv','computer',s)"
   ]
  },
  {
   "cell_type": "code",
   "execution_count": 12,
   "id": "e77cd507",
   "metadata": {},
   "outputs": [
    {
     "name": "stdout",
     "output_type": "stream",
     "text": [
      "valid email\n"
     ]
    }
   ],
   "source": [
    "#wap to find email is valid or not.\n",
    "email='abc@123.com'\n",
    "if re.findall('@',email) and re.findall('.',email):\n",
    "    print('valid email')\n",
    "else:\n",
    "    print('invalid email')\n"
   ]
  },
  {
   "cell_type": "code",
   "execution_count": 14,
   "id": "d31c8599",
   "metadata": {},
   "outputs": [
    {
     "name": "stdout",
     "output_type": "stream",
     "text": [
      "starting point is: 5 ending point is: 10\n",
      "starting point is: 18 ending point is: 23\n"
     ]
    }
   ],
   "source": [
    "#wap to find the starting and ending point of the pattern in string-->'I am known with unknown personality'.\n",
    "s='I am known with unknown personality'\n",
    "for i in re.finditer('known',s):\n",
    "    a=i.start()\n",
    "    b=i.end()\n",
    "    print('starting point is:',a,'ending point is:',b)\n",
    "    "
   ]
  },
  {
   "cell_type": "code",
   "execution_count": 118,
   "id": "fef9b9cd",
   "metadata": {},
   "outputs": [
    {
     "name": "stdout",
     "output_type": "stream",
     "text": [
      "ram is a student \n",
      "ram is a boy \n",
      " and sita is also a student\n",
      " and sita is also a girl\n",
      "ram is a boy  and sita is also a girl\n"
     ]
    }
   ],
   "source": [
    "#wap to solve a string--->'Ram is a student and sita is also a student'\n",
    "s='ram is a student and sita is also a student'\n",
    "s1=''\n",
    "s2=''\n",
    "for i in re.split('and sita is also a student',s):\n",
    "    s1=s1+i\n",
    "print(s1)\n",
    "s1=re.sub('student','boy',s1)\n",
    "print(s1)\n",
    "for i in re.split('ram is a student',s):\n",
    "    s2=s2+i\n",
    "print(s2)\n",
    "s2=re.sub('student','girl',s2)\n",
    "print(s2)\n",
    "s=s1+s2\n",
    "print(s)"
   ]
  },
  {
   "cell_type": "code",
   "execution_count": 44,
   "id": "5a53f912",
   "metadata": {},
   "outputs": [
    {
     "data": {
      "text/plain": [
       "[]"
      ]
     },
     "execution_count": 44,
     "metadata": {},
     "output_type": "execute_result"
    }
   ],
   "source": [
    "#findall\n",
    "a='I am a lion and i know that i am a lion'\n",
    "re.findall('lion1',a)"
   ]
  },
  {
   "cell_type": "code",
   "execution_count": 46,
   "id": "70042bed",
   "metadata": {},
   "outputs": [],
   "source": [
    "#search\n",
    "a='I am a lion and i know that i am a lion'\n",
    "re.search('lion1',a)"
   ]
  },
  {
   "cell_type": "code",
   "execution_count": 55,
   "id": "9a81b83b",
   "metadata": {},
   "outputs": [
    {
     "data": {
      "text/plain": [
       "['I am a lion and', '']"
      ]
     },
     "execution_count": 55,
     "metadata": {},
     "output_type": "execute_result"
    }
   ],
   "source": [
    "#split\n",
    "a='I am a lion and i know that i am a lion'\n",
    "pattern=' i know that i am a lion'\n",
    "re.split(pattern,a)\n",
    "#a.split()"
   ]
  },
  {
   "cell_type": "code",
   "execution_count": 56,
   "id": "07280b21",
   "metadata": {},
   "outputs": [
    {
     "data": {
      "text/plain": [
       "['I am a lion and i know that i am a lion']"
      ]
     },
     "execution_count": 56,
     "metadata": {},
     "output_type": "execute_result"
    }
   ],
   "source": [
    "re.split('boy',a)"
   ]
  },
  {
   "cell_type": "code",
   "execution_count": 58,
   "id": "aee7393c",
   "metadata": {},
   "outputs": [
    {
     "data": {
      "text/plain": [
       "'I am a lion and i know that i am a lion'"
      ]
     },
     "execution_count": 58,
     "metadata": {},
     "output_type": "execute_result"
    }
   ],
   "source": [
    "#sub\n",
    "a='I am a lion and i know that i am a lion'\n",
    "re.sub('lion1','tiger',a)"
   ]
  },
  {
   "cell_type": "code",
   "execution_count": 67,
   "id": "09394146",
   "metadata": {},
   "outputs": [],
   "source": [
    "#finditer\n",
    "a='I am a lion and i know that i am a lioness'\n",
    "for match in re.finditer('lion1',a):\n",
    "    x=match.start()\n",
    "    y=match.end()\n",
    "    print(x,y,end=' ')"
   ]
  },
  {
   "cell_type": "code",
   "execution_count": null,
   "id": "515c194b",
   "metadata": {},
   "outputs": [],
   "source": []
  }
 ],
 "metadata": {
  "kernelspec": {
   "display_name": "Python 3 (ipykernel)",
   "language": "python",
   "name": "python3"
  },
  "language_info": {
   "codemirror_mode": {
    "name": "ipython",
    "version": 3
   },
   "file_extension": ".py",
   "mimetype": "text/x-python",
   "name": "python",
   "nbconvert_exporter": "python",
   "pygments_lexer": "ipython3",
   "version": "3.9.7"
  }
 },
 "nbformat": 4,
 "nbformat_minor": 5
}
