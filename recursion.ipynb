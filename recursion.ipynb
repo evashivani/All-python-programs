{
 "cells": [
  {
   "cell_type": "code",
   "execution_count": 1,
   "id": "face2a7c",
   "metadata": {},
   "outputs": [
    {
     "name": "stdout",
     "output_type": "stream",
     "text": [
      "hi\n"
     ]
    }
   ],
   "source": [
    "def fun():\n",
    "    print('hi')\n",
    "    #fun()\n",
    "fun()"
   ]
  },
  {
   "cell_type": "code",
   "execution_count": 2,
   "id": "cd54abb2",
   "metadata": {},
   "outputs": [
    {
     "name": "stdout",
     "output_type": "stream",
     "text": [
      "Enter the num5\n"
     ]
    },
    {
     "data": {
      "text/plain": [
       "15"
      ]
     },
     "execution_count": 2,
     "metadata": {},
     "output_type": "execute_result"
    }
   ],
   "source": [
    "#wap to sum from 1 to n using recursion.\n",
    "n=int(input('Enter the num'))\n",
    "def s(n):              #base case\n",
    "    if n==1:\n",
    "        return 1\n",
    "    else:\n",
    "        return n+s(n-1)\n",
    "s(n)"
   ]
  },
  {
   "cell_type": "code",
   "execution_count": 10,
   "id": "9a802b2a",
   "metadata": {},
   "outputs": [
    {
     "data": {
      "text/plain": [
       "120"
      ]
     },
     "execution_count": 10,
     "metadata": {},
     "output_type": "execute_result"
    }
   ],
   "source": [
    "#wap to find factorial of n numbers:\n",
    "def fact(n):\n",
    "    if n==1:\n",
    "        return 1\n",
    "    else: \n",
    "        return n*fact(n-1)\n",
    "fact(5)"
   ]
  },
  {
   "cell_type": "code",
   "execution_count": 15,
   "id": "fc350cef",
   "metadata": {},
   "outputs": [
    {
     "name": "stdout",
     "output_type": "stream",
     "text": [
      "0 1\n",
      "1\n",
      "2\n",
      "3\n",
      "5\n",
      "8\n",
      "13\n",
      "21\n",
      "34\n",
      "55\n"
     ]
    }
   ],
   "source": [
    "#wap to find fibonacci sequence:\n",
    "def fibonacci(x):\n",
    "        a=0\n",
    "        b=1\n",
    "        print(a,b)\n",
    "        for i in range(1,x):\n",
    "            c=a+b\n",
    "            a=b\n",
    "            b=c\n",
    "            print(c)\n",
    "fibonacci(10)"
   ]
  },
  {
   "cell_type": "code",
   "execution_count": null,
   "id": "bdd76ec4",
   "metadata": {},
   "outputs": [],
   "source": [
    "#wap to calculate the value of a to the power b.\n",
    "def power(a,b):\n",
    "    if b==0 and a==0:\n",
    "        return 1\n",
    "    else:\n",
    "        return a*power(a,b-1)\n",
    "\n",
    "power(3,2)\n"
   ]
  },
  {
   "cell_type": "code",
   "execution_count": 3,
   "id": "cd5a03aa",
   "metadata": {},
   "outputs": [
    {
     "name": "stdout",
     "output_type": "stream",
     "text": [
      "5050\n"
     ]
    }
   ],
   "source": [
    "def total1(n):\n",
    "    if n>0:\n",
    "        return n+total1(n-1)\n",
    "    else:\n",
    "        return 0\n",
    "x=total1(100)\n",
    "print(x)\n"
   ]
  },
  {
   "cell_type": "code",
   "execution_count": 14,
   "id": "786c5203",
   "metadata": {},
   "outputs": [
    {
     "name": "stdout",
     "output_type": "stream",
     "text": [
      "5050\n"
     ]
    }
   ],
   "source": [
    "def sum(n):\n",
    "    if n > 0:\n",
    "        return n + sum(n-1)\n",
    "    else:\n",
    "        return 0\n",
    "\n",
    "\n",
    "result = sum(100)\n",
    "print(result)"
   ]
  },
  {
   "cell_type": "code",
   "execution_count": 16,
   "id": "89a60389",
   "metadata": {},
   "outputs": [
    {
     "name": "stdout",
     "output_type": "stream",
     "text": [
      "5\n",
      "4\n",
      "3\n",
      "2\n",
      "1\n",
      "no\n"
     ]
    }
   ],
   "source": [
    "def count_down(n):\n",
    "    if n>0:\n",
    "        print(n)\n",
    "        count_down(n-1)\n",
    "    else:\n",
    "        print('no')\n",
    "count_down(5)"
   ]
  },
  {
   "cell_type": "code",
   "execution_count": null,
   "id": "18368d8a",
   "metadata": {},
   "outputs": [],
   "source": [
    "#Write a Python program to converting an Integer to a string in any base.\n"
   ]
  },
  {
   "cell_type": "code",
   "execution_count": 1,
   "id": "e2f0aa58",
   "metadata": {},
   "outputs": [
    {
     "name": "stderr",
     "output_type": "stream",
     "text": [
      "<>:12: SyntaxWarning: \"is\" with a literal. Did you mean \"==\"?\n",
      "<>:12: SyntaxWarning: \"is\" with a literal. Did you mean \"==\"?\n",
      "C:\\Users\\punee\\AppData\\Local\\Temp/ipykernel_4596/102013521.py:12: SyntaxWarning: \"is\" with a literal. Did you mean \"==\"?\n",
      "  if n is '':\n"
     ]
    },
    {
     "data": {
      "text/plain": [
       "6"
      ]
     },
     "execution_count": 1,
     "metadata": {},
     "output_type": "execute_result"
    }
   ],
   "source": [
    "#Write a Python program to get the sum of a non-negative integer. Go to the editor\n",
    "\n",
    "def total(n):\n",
    "    if n==0:\n",
    "        return 0\n",
    "    else:\n",
    "        return n%10+total(n//10)\n",
    "total(345)\n",
    "\n",
    "def convert(n):\n",
    "    n=str(n)\n",
    "    if n is '':\n",
    "        return 0\n",
    "    else:\n",
    "        return int(n[0])+convert(n[1:])\n",
    "convert(123)"
   ]
  },
  {
   "cell_type": "code",
   "execution_count": null,
   "id": "c82e6b13",
   "metadata": {},
   "outputs": [],
   "source": [
    "#Write a Python program to calculate the sum of the positive integers of n+(n-2)+(n-4)... (until n-x =< 0). Go to the editor\n",
    "#Test Data:\n",
    "#sum_series(6) -> 12\n",
    "#sum_series(10) -> 30\n",
    "def sum_series(n):\n",
    "    if n==0:\n",
    "        return 0\n",
    "    else:\n",
    "        return n+sum_series(n-4)\n",
    "sum_series(10)\n",
    "\n",
    "def sum_series(n):\n",
    "    n=str(n)\n",
    "    if n=0:\n",
    "        return 0\n",
    "    else:\n",
    "        return int(n[0])+sum_series(n-2)\n",
    "sum_series(6)\n"
   ]
  },
  {
   "cell_type": "code",
   "execution_count": 1,
   "id": "1b48a976",
   "metadata": {},
   "outputs": [],
   "source": [
    "#Write a Python program of recursion list sum. Go to the editor\n",
    "#Test Data: [1, 2, [3,4], [5,6]]"
   ]
  },
  {
   "cell_type": "code",
   "execution_count": 2,
   "id": "f9479f86",
   "metadata": {},
   "outputs": [
    {
     "data": {
      "text/plain": [
       "2.5928571428571425"
      ]
     },
     "execution_count": 2,
     "metadata": {},
     "output_type": "execute_result"
    }
   ],
   "source": [
    "#Write a Python program to calculate the harmonic sum of n-1.\n",
    "def harmonic(n):\n",
    "    if n==1:\n",
    "        return 1\n",
    "    else:\n",
    "        return 1/n + harmonic(n-1)\n",
    "    \n",
    "harmonic(7)"
   ]
  },
  {
   "cell_type": "code",
   "execution_count": null,
   "id": "c4f8ad5b",
   "metadata": {},
   "outputs": [],
   "source": []
  }
 ],
 "metadata": {
  "kernelspec": {
   "display_name": "Python 3 (ipykernel)",
   "language": "python",
   "name": "python3"
  },
  "language_info": {
   "codemirror_mode": {
    "name": "ipython",
    "version": 3
   },
   "file_extension": ".py",
   "mimetype": "text/x-python",
   "name": "python",
   "nbconvert_exporter": "python",
   "pygments_lexer": "ipython3",
   "version": "3.9.7"
  }
 },
 "nbformat": 4,
 "nbformat_minor": 5
}
