{
 "cells": [
  {
   "cell_type": "code",
   "execution_count": 1,
   "id": "4e4dd18a",
   "metadata": {},
   "outputs": [
    {
     "name": "stdout",
     "output_type": "stream",
     "text": [
      "40\n",
      "1200000\n"
     ]
    }
   ],
   "source": [
    "class emp:\n",
    "    def __init__(self,name,age,salary):\n",
    "        self.name=name\n",
    "        self.age=age\n",
    "        self.salary=salary\n",
    "        self.emp_sal()\n",
    "    def emp_sal(self):\n",
    "            self.sal=self.salary*12\n",
    "            \n",
    "    \n",
    "e=emp('singh',40,100000)\n",
    "print(e.age)\n",
    "print(e.sal)\n"
   ]
  },
  {
   "cell_type": "code",
   "execution_count": 2,
   "id": "c4e5c154",
   "metadata": {},
   "outputs": [],
   "source": [
    "#wap to make empty class with its objects using constructor.\n",
    "class empty:\n",
    "    def __init__(self):\n",
    "        pass\n",
    "        \n",
    "e=empty()"
   ]
  },
  {
   "cell_type": "code",
   "execution_count": 3,
   "id": "ef6e8a2d",
   "metadata": {},
   "outputs": [
    {
     "data": {
      "text/plain": [
       "240000"
      ]
     },
     "execution_count": 3,
     "metadata": {},
     "output_type": "execute_result"
    }
   ],
   "source": [
    "# Wap to make a class of employee and claculate its per year salary. Monthly salary is ----> 20000 using constructor\n",
    "class employee:\n",
    "    def __init__(self,salary):\n",
    "        self.per_year_salary=salary*12\n",
    "        #print(salary)\n",
    "a=employee(20000)\n",
    "a.per_year_salary"
   ]
  },
  {
   "cell_type": "code",
   "execution_count": 4,
   "id": "bed27c31",
   "metadata": {},
   "outputs": [
    {
     "name": "stdout",
     "output_type": "stream",
     "text": [
      "Addition:  13\n",
      "Subtraction:  1\n",
      "Multiplication:  42\n",
      "Division:  1.1666666666666667\n",
      "Modulus:  1\n"
     ]
    }
   ],
   "source": [
    "# Wap to make a class of simplification and use +,-,/,*,% operator to calucalte the values of the properties using constructor.\n",
    "class operators:\n",
    "    def __init__(self,a,b):\n",
    "        self.add=a+b\n",
    "        self.sub=a-b\n",
    "        self.mul=a*b\n",
    "        self.div=a/b\n",
    "        self.mod=a%b\n",
    "o=operators(7,6)\n",
    "print('Addition: ',o.add)\n",
    "print('Subtraction: ',o.sub)\n",
    "print('Multiplication: ',o.mul)\n",
    "print('Division: ',o.div)\n",
    "print('Modulus: ',o.mod)"
   ]
  },
  {
   "cell_type": "code",
   "execution_count": 5,
   "id": "955e0433",
   "metadata": {},
   "outputs": [
    {
     "name": "stdout",
     "output_type": "stream",
     "text": [
      "Total cost of car is: 2740000.0\n"
     ]
    }
   ],
   "source": [
    "# Wap to make a class of car and find its total cost,where basic price is 2000000  tax is 20% and on road price is \n",
    "#increased by 17% using constructor.\n",
    "\n",
    "class car:\n",
    "    def __init__(self,basic_price):\n",
    "        self.road_tax=basic_price*20/100\n",
    "        self.on_road_price=basic_price*17/100\n",
    "        self.total_cost=basic_price+self.road_tax+self.on_road_price\n",
    "c=car(2000000)\n",
    "print('Total cost of car is:',c.total_cost)"
   ]
  },
  {
   "cell_type": "code",
   "execution_count": 6,
   "id": "24f13e91",
   "metadata": {},
   "outputs": [
    {
     "name": "stdout",
     "output_type": "stream",
     "text": [
      "square of no.is:  25\n",
      "name of the string is:  hello Jack\n"
     ]
    },
    {
     "ename": "AttributeError",
     "evalue": "'sample' object has no attribute 's'",
     "output_type": "error",
     "traceback": [
      "\u001b[1;31m---------------------------------------------------------------------------\u001b[0m",
      "\u001b[1;31mAttributeError\u001b[0m                            Traceback (most recent call last)",
      "\u001b[1;32m~\\AppData\\Local\\Temp/ipykernel_10552/237913117.py\u001b[0m in \u001b[0;36m<module>\u001b[1;34m\u001b[0m\n\u001b[0;32m     21\u001b[0m \u001b[0mprint\u001b[0m\u001b[1;33m(\u001b[0m\u001b[1;34m'square of no.is: '\u001b[0m\u001b[1;33m,\u001b[0m\u001b[0ms\u001b[0m\u001b[1;33m.\u001b[0m\u001b[0msquare\u001b[0m\u001b[1;33m)\u001b[0m\u001b[1;33m\u001b[0m\u001b[1;33m\u001b[0m\u001b[0m\n\u001b[0;32m     22\u001b[0m \u001b[0mprint\u001b[0m\u001b[1;33m(\u001b[0m\u001b[1;34m'name of the string is: '\u001b[0m\u001b[1;33m,\u001b[0m\u001b[0ms1\u001b[0m\u001b[1;33m.\u001b[0m\u001b[0mname\u001b[0m\u001b[1;33m)\u001b[0m\u001b[1;33m\u001b[0m\u001b[1;33m\u001b[0m\u001b[0m\n\u001b[1;32m---> 23\u001b[1;33m \u001b[0mprint\u001b[0m\u001b[1;33m(\u001b[0m\u001b[1;34m'sum of the no. is '\u001b[0m\u001b[1;33m,\u001b[0m\u001b[0ms2\u001b[0m\u001b[1;33m.\u001b[0m\u001b[0ms\u001b[0m\u001b[1;33m)\u001b[0m\u001b[1;33m\u001b[0m\u001b[1;33m\u001b[0m\u001b[0m\n\u001b[0m",
      "\u001b[1;31mAttributeError\u001b[0m: 'sample' object has no attribute 's'"
     ]
    }
   ],
   "source": [
    "#consider passing an argument to the class sample, \n",
    "#If the parameter is an int, the square of the number should be the answer.\n",
    "#If the parameter is a String, the answer should be “Hello!!”+string.\n",
    "#If the parameter is of length greater than 1, the sum of arguments should be stored as the answer.\n",
    "\n",
    "class sample:\n",
    "    def __init__(self,*a):\n",
    "        if isinstance(a[0],int):\n",
    "                self.square=a[0]*a[0]\n",
    "                #return self.square\n",
    "        elif isinstance(a[0],str):\n",
    "            self.name='hello'+' '+a[0]\n",
    "        else:\n",
    "            for i in range(len(a)):\n",
    "                self.s=0\n",
    "                \n",
    "                self.s=s+i\n",
    "s=sample(5)\n",
    "s1=sample('Jack')\n",
    "s2=sample(1,2,3,4,5)\n",
    "print('square of no.is: ',s.square)\n",
    "print('name of the string is: ',s1.name)\n",
    "print('sum of the no. is ',s2.s)"
   ]
  },
  {
   "cell_type": "code",
   "execution_count": null,
   "id": "ab5ad239",
   "metadata": {},
   "outputs": [],
   "source": [
    "#If the number of arguments passed is 2, then evaluate the expression x = a2-b2\n",
    "#If the number of arguments passed is 3, then evaluate the expression y = a2+b2-c.\n",
    "#If more than 3 arguments have been passed, then sum up the squares, divide it by the highest value\n",
    "#in the arguments passed.\n",
    "\n",
    "class task:\n",
    "    def __init__(self, *arg):\n",
    "        if len(arg)==2:\n",
    "            self.x=(arg[0]*arg[0])-(arg[1]*arg[1])\n",
    "        elif len(arg)==3:\n",
    "            self.y=(arg[0]*arg[0])+(arg[1]*arg[1])-arg[2]\n",
    "        elif len(arg)>3:\n",
    "            sum=0\n",
    "            for i in range(0,len(arg)):\n",
    "                sum=sum+arg[i]*arg[i]\n",
    "                self.z=sum//max(arg)\n",
    "                #self.z=sum\n",
    "        \n",
    "    \n",
    "    \n",
    "t1= task(6,5)\n",
    "t2=task(3,2,4)\n",
    "t3=task(1,2,3,4,5)\n",
    "print(t1.x)\n",
    "print(t2.y)\n",
    "print(t3.z)"
   ]
  }
 ],
 "metadata": {
  "kernelspec": {
   "display_name": "Python 3 (ipykernel)",
   "language": "python",
   "name": "python3"
  },
  "language_info": {
   "codemirror_mode": {
    "name": "ipython",
    "version": 3
   },
   "file_extension": ".py",
   "mimetype": "text/x-python",
   "name": "python",
   "nbconvert_exporter": "python",
   "pygments_lexer": "ipython3",
   "version": "3.9.7"
  }
 },
 "nbformat": 4,
 "nbformat_minor": 5
}
