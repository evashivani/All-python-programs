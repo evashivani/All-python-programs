{
 "cells": [
  {
   "cell_type": "code",
   "execution_count": 1,
   "id": "8f98a160",
   "metadata": {},
   "outputs": [
    {
     "data": {
      "text/plain": [
       "'shivani'"
      ]
     },
     "execution_count": 1,
     "metadata": {},
     "output_type": "execute_result"
    }
   ],
   "source": [
    "#What is __init__() in Python?\n",
    "#__init__():It is a class constructor used to initialize the memory to the object of the class.\n",
    "class base:\n",
    "    def __init__(self,name):\n",
    "        self.name=name\n",
    "b=base('shivani')\n",
    "b.name\n"
   ]
  },
  {
   "cell_type": "code",
   "execution_count": 2,
   "id": "82ff2b47",
   "metadata": {},
   "outputs": [],
   "source": [
    "#What does ‘#’ symbol do in Python?\n",
    "# '#' symbol is used for comments in python\n"
   ]
  },
  {
   "cell_type": "code",
   "execution_count": 3,
   "id": "0bfac1b1",
   "metadata": {},
   "outputs": [],
   "source": [
    "#What is a pass in Python?\n",
    "# pass: It is used when the class is empty otherwise error will throw.\n",
    "class base:\n",
    "    pass\n",
    "b=base()"
   ]
  },
  {
   "cell_type": "code",
   "execution_count": 42,
   "id": "c1e77174",
   "metadata": {},
   "outputs": [
    {
     "name": "stdout",
     "output_type": "stream",
     "text": [
      "The value inside the function is string1\n",
      "Value outside the function is: string\n",
      "Inside list [0, 1, 2, 3, 4]\n",
      "Outside list [0, 1, 2, 3, 4]\n"
     ]
    }
   ],
   "source": [
    "#How are arguments passed by value or by reference in Python?\n",
    "#In the event that you pass arguments like whole numbers, strings or tuples to a function, the passing is like\n",
    "#call-by-value because you can not change the value of the immutable objects being passed to the function.\n",
    "#Whereas passing mutable objects can be considered as call by reference because\n",
    "#when their values are changed inside the function, then it will also be reflected outside the function.\n",
    "\n",
    "#pass by value:\n",
    "s='string'\n",
    "def value(s1):\n",
    "    s1='string1'\n",
    "    print('The value inside the function is',s1)\n",
    "value(s)\n",
    "print('Value outside the function is:',s)        \n",
    "\n",
    "\n",
    "#pass by reference:\n",
    "l=[1,2,3,4,0]\n",
    "def refer(l1):\n",
    "    l1.sort()\n",
    "    print('Inside list',l1)\n",
    "refer(l)\n",
    "print('Outside list',l)"
   ]
  },
  {
   "cell_type": "code",
   "execution_count": 90,
   "id": "e79ddade",
   "metadata": {},
   "outputs": [
    {
     "name": "stdout",
     "output_type": "stream",
     "text": [
      "3\n"
     ]
    }
   ],
   "source": [
    "#Write a Python Program to Count the Number of Vowels in a String?\n",
    "s='afhiov'\n",
    "count=0\n",
    "for i in s:\n",
    "    if i=='a' or i=='e' or i=='i' or i=='o' or i=='u':\n",
    "        count+=1\n",
    "print(count)"
   ]
  },
  {
   "cell_type": "code",
   "execution_count": 6,
   "id": "2f1681b7",
   "metadata": {},
   "outputs": [
    {
     "name": "stdout",
     "output_type": "stream",
     "text": [
      "{0.9, 1, 2, 'shi', (3+4j)}\n",
      "{1: 3, 2: 'hi', 'shi': 45}\n"
     ]
    }
   ],
   "source": [
    "#What is the similarity between Set and Dictionary?-->They cannot contain duplicate elements.\n",
    "#set:\n",
    "s={1,2,'shi',0.9,2,3+4j}\n",
    "print(s)\n",
    "#dictionary:\n",
    "s={\n",
    "    1:3,\n",
    "    2:'hi',\n",
    "    'shi':45,\n",
    "    'shi':45\n",
    "}\n",
    "print(s)"
   ]
  },
  {
   "cell_type": "code",
   "execution_count": 7,
   "id": "666fbf24",
   "metadata": {},
   "outputs": [],
   "source": [
    "#What is the difference between Set and Dictionary?-->In sets we cannot have indexing while in dictionary a indexing can be \n",
    "#done by keys.\n",
    "#dictionary works on key value pair.\n",
    "#set is immutable while dictionary is mutable.\n",
    "\n"
   ]
  },
  {
   "cell_type": "code",
   "execution_count": 8,
   "id": "6694a7da",
   "metadata": {},
   "outputs": [],
   "source": [
    "#What is the difference between Mutable datatype and Immutable datatype?\n",
    "#Mutable datatype: In this data type we can change and update their value.\n",
    "#ex: List,Dictionary\n",
    "#immutable data type:In this we cannot change or update the values.\n",
    "#ex: set,tuple"
   ]
  },
  {
   "cell_type": "code",
   "execution_count": 9,
   "id": "b4f62219",
   "metadata": {},
   "outputs": [],
   "source": [
    "#Differentiate between List and Tuple?\n",
    "#List: It is a collection of data types in which we can change the data values.It is mutable.\n",
    "#Tuple: We cnanot change the data values in it.It is immutable."
   ]
  },
  {
   "cell_type": "code",
   "execution_count": 91,
   "id": "f2d0e337",
   "metadata": {},
   "outputs": [
    {
     "name": "stdout",
     "output_type": "stream",
     "text": [
      "Enter the number5\n",
      "No.is prime\n"
     ]
    }
   ],
   "source": [
    "#Write a Python Program to Check if a Number is a Prime Number?\n",
    "n=int(input('Enter the number'))\n",
    "#i=1\n",
    "count=0\n",
    "for i in range(1,n+1):\n",
    "    if n%i==0:\n",
    "        count+=1\n",
    "        i=i+1\n",
    "if count==2:\n",
    "    print('No.is prime')\n",
    "else:\n",
    "    print('not a prime')\n",
    "        "
   ]
  },
  {
   "cell_type": "code",
   "execution_count": 18,
   "id": "928e80b6",
   "metadata": {},
   "outputs": [
    {
     "name": "stdout",
     "output_type": "stream",
     "text": [
      "9\n"
     ]
    }
   ],
   "source": [
    "#Write a Python Program to Count the Number of Digits in a Number?\n",
    "num=127634567\n",
    "counter=0\n",
    "for i in str(num):\n",
    "    counter+=1\n",
    "print(counter)\n",
    "    \n",
    "    "
   ]
  },
  {
   "cell_type": "code",
   "execution_count": 13,
   "id": "ffe985ee",
   "metadata": {},
   "outputs": [
    {
     "name": "stdout",
     "output_type": "stream",
     "text": [
      "6\n"
     ]
    }
   ],
   "source": [
    "#Write a program to find the sum of the digits of a number in Python?\n",
    "num=123\n",
    "sum=0\n",
    "i=0\n",
    "s=str(num)\n",
    "for i in s:\n",
    "    sum=sum+int(i)\n",
    "print(sum)\n",
    "    "
   ]
  },
  {
   "cell_type": "code",
   "execution_count": null,
   "id": "7e89c50f",
   "metadata": {},
   "outputs": [],
   "source": [
    "#How do you Concatenate Strings in Python?\n",
    "s1='hi'\n",
    "s2='hello'\n",
    "s3=s1+' '+s2\n",
    "print(s3)"
   ]
  },
  {
   "cell_type": "code",
   "execution_count": 10,
   "id": "ee602004",
   "metadata": {},
   "outputs": [
    {
     "name": "stdout",
     "output_type": "stream",
     "text": [
      "9 1 \n",
      "\n",
      "8 1 \n",
      "\n",
      "7 2 \n",
      "\n",
      "7 2 \n",
      "\n",
      "5 1 \n",
      "\n",
      "4 2 \n",
      "\n",
      "4 2 \n",
      "\n"
     ]
    }
   ],
   "source": [
    "#How to count the occurrences of a particular element in the list?\n",
    "a=[9,8,7,7,5,4,4]\n",
    "for i in a:\n",
    "    c=a.count(i)\n",
    "    print(i,c,end=' ')\n",
    "    print('\\n')"
   ]
  },
  {
   "cell_type": "code",
   "execution_count": 19,
   "id": "1155e024",
   "metadata": {},
   "outputs": [
    {
     "name": "stdout",
     "output_type": "stream",
     "text": [
      "12345\n"
     ]
    }
   ],
   "source": [
    "#How to convert a list into a string?\n",
    "l=[1,2,3,4,5]\n",
    "s=''\n",
    "for i in l:\n",
    "    s=s+str(i)\n",
    "print(s)\n"
   ]
  },
  {
   "cell_type": "code",
   "execution_count": null,
   "id": "41904810",
   "metadata": {},
   "outputs": [],
   "source": [
    "#How to convert a list into a tuple?\n",
    "l=[1,2,3,4,5]\n",
    "t=tuple(l)\n",
    "print(t)"
   ]
  },
  {
   "cell_type": "code",
   "execution_count": null,
   "id": "224ac3e2",
   "metadata": {},
   "outputs": [],
   "source": [
    "#How to convert a list into a set?\n",
    "l=[1,2,3,4,'a']\n",
    "s=set(l)\n",
    "print(s)"
   ]
  },
  {
   "cell_type": "code",
   "execution_count": 46,
   "id": "97be001d",
   "metadata": {},
   "outputs": [
    {
     "name": "stdout",
     "output_type": "stream",
     "text": [
      "15\n"
     ]
    }
   ],
   "source": [
    "#Python Program to find sum of array\n",
    "arr=[1,2,3,4,5]\n",
    "arr=reduce(lambda a,b:a+b,arr)\n",
    "print(arr)"
   ]
  },
  {
   "cell_type": "code",
   "execution_count": 77,
   "id": "db07aa6a",
   "metadata": {},
   "outputs": [
    {
     "name": "stdout",
     "output_type": "stream",
     "text": [
      "999\n"
     ]
    }
   ],
   "source": [
    "#Python Program to find largest element in an array\n",
    "arr=[90,67,100,460,340,999,10]\n",
    "def largest(z,y):\n",
    "        if z>y:\n",
    "            return z\n",
    "        else:\n",
    "            return y\n",
    "print(reduce(largest,arr))\n",
    "#print(x)"
   ]
  },
  {
   "cell_type": "code",
   "execution_count": 3,
   "id": "e8ca0ff4",
   "metadata": {},
   "outputs": [
    {
     "name": "stdout",
     "output_type": "stream",
     "text": [
      "Enter the number5\n",
      "0\n",
      "1\n",
      "1\n",
      "2\n",
      "3\n",
      "5\n",
      "8\n"
     ]
    }
   ],
   "source": [
    "#Python Program for n-th Fibonacci number.\n",
    "n=int(input('Enter the number'))\n",
    "a=0\n",
    "b=1\n",
    "print(a)\n",
    "print(b)\n",
    "for i in range(n):\n",
    "    c=a+b\n",
    "    a=b\n",
    "    b=c\n",
    "    print(c)"
   ]
  },
  {
   "cell_type": "code",
   "execution_count": 83,
   "id": "9e7c062e",
   "metadata": {},
   "outputs": [
    {
     "name": "stdout",
     "output_type": "stream",
     "text": [
      "Enter the natural numbers2\n",
      "9\n"
     ]
    }
   ],
   "source": [
    "#Python Program for cube sum of first n natural numbers\n",
    "n=int(input('Enter the natural numbers'))\n",
    "def natural_no():\n",
    "    sum=0\n",
    "    for i in range(1,n+1):\n",
    "        sum=sum+i**3\n",
    "    print(sum)\n",
    "natural_no()"
   ]
  },
  {
   "cell_type": "code",
   "execution_count": 84,
   "id": "8bb3a2bd",
   "metadata": {},
   "outputs": [
    {
     "name": "stdout",
     "output_type": "stream",
     "text": [
      "Enter the natural numbers3\n",
      "14\n"
     ]
    }
   ],
   "source": [
    "#Python Program for Sum of squares of first n natural numbers\n",
    "n=int(input('Enter the natural numbers'))\n",
    "def natural_no():\n",
    "    sum=0\n",
    "    for i in range(1,n+1):\n",
    "        sum=sum+i*i\n",
    "    print(sum)\n",
    "natural_no()"
   ]
  },
  {
   "cell_type": "code",
   "execution_count": 62,
   "id": "7d14d737",
   "metadata": {},
   "outputs": [
    {
     "name": "stdout",
     "output_type": "stream",
     "text": [
      "u era woh ih\n"
     ]
    }
   ],
   "source": [
    "#Reverse words in a given String in Python\n",
    "s='hi how are u'\n",
    "b=''\n",
    "j=-1\n",
    "for i in s:\n",
    "    b=b+s[j]\n",
    "    j=j-1\n",
    "print(b)"
   ]
  },
  {
   "cell_type": "code",
   "execution_count": 61,
   "id": "0fc8132e",
   "metadata": {},
   "outputs": [
    {
     "name": "stdout",
     "output_type": "stream",
     "text": [
      "ave\n",
      "symmetrical\n"
     ]
    }
   ],
   "source": [
    "#Python program to check whether the string is Symmetrical or Palindrome\n",
    "s='eva'\n",
    "b=''\n",
    "j=-1\n",
    "for i in s:\n",
    "    b=b+s[j]\n",
    "    j=j-1\n",
    "print(b)\n",
    "if b==s:\n",
    "    print('palindrome string')\n",
    "else:\n",
    "    print('not symmetrical')"
   ]
  },
  {
   "cell_type": "code",
   "execution_count": 53,
   "id": "3b1b7c23",
   "metadata": {},
   "outputs": [
    {
     "name": "stdout",
     "output_type": "stream",
     "text": [
      "nitin\n",
      "palindrome string\n"
     ]
    }
   ],
   "source": [
    "#Python program to check if a string is palindrome or not\n",
    "s='nitin'\n",
    "b=''\n",
    "j=-1\n",
    "for i in s:\n",
    "    b=b+s[j]\n",
    "    j=j-1\n",
    "print(b)\n",
    "if b==s:\n",
    "    print('palindrome string')\n",
    "else:\n",
    "    print('not a palindrome')"
   ]
  },
  {
   "cell_type": "code",
   "execution_count": 20,
   "id": "3dcc0355",
   "metadata": {},
   "outputs": [
    {
     "name": "stdout",
     "output_type": "stream",
     "text": [
      "[100, 200, 370, 450, 500]\n",
      "450\n",
      "[100, 200, 370, 450]\n",
      "450\n"
     ]
    },
    {
     "data": {
      "text/plain": [
       "700"
      ]
     },
     "execution_count": 20,
     "metadata": {},
     "output_type": "execute_result"
    }
   ],
   "source": [
    "#Python program to find second largest number in a list\n",
    "#using sort():\n",
    "a=[100,200,450,500,370]\n",
    "a.sort()\n",
    "print(a)\n",
    "print(a[-2])\n",
    "#using max method:\n",
    "a.remove(max(a))\n",
    "print(a)\n",
    "print(max(a))\n",
    "#using loop:\n",
    "a=[100,50,700,10000,5]\n",
    "def fun(a):\n",
    "    largest=a[0]\n",
    "    second_l=a[0]\n",
    "    for i in range(len(a)):\n",
    "        if a[i]>largest:\n",
    "            largest=a[i]\n",
    "    for i in range(len(a)):\n",
    "        if a[i]>second_l and a[i]!=largest:\n",
    "            second_l=a[i]\n",
    "    return second_l\n",
    "fun(a)"
   ]
  },
  {
   "cell_type": "code",
   "execution_count": 37,
   "id": "7ee630dc",
   "metadata": {},
   "outputs": [
    {
     "name": "stdout",
     "output_type": "stream",
     "text": [
      "39\n"
     ]
    }
   ],
   "source": [
    "#Python program to find largest number in a list\n",
    "from functools import reduce\n",
    "x=[12,39,15,23]\n",
    "d=reduce(lambda a,b:a if a>b else b,x)\n",
    "print(d)"
   ]
  },
  {
   "cell_type": "code",
   "execution_count": 40,
   "id": "d49c210f",
   "metadata": {},
   "outputs": [
    {
     "name": "stdout",
     "output_type": "stream",
     "text": [
      "12\n"
     ]
    }
   ],
   "source": [
    "#Python program to find smallest number in a list\n",
    "from functools import reduce\n",
    "x=[12,34,15,23]\n",
    "d=reduce(lambda a,b:a if a<b else b,x)\n",
    "print(d)"
   ]
  },
  {
   "cell_type": "code",
   "execution_count": 30,
   "id": "c40247a6",
   "metadata": {},
   "outputs": [
    {
     "name": "stdout",
     "output_type": "stream",
     "text": [
      "384\n"
     ]
    }
   ],
   "source": [
    "#Python | Multiply all numbers in the list\n",
    "from functools import reduce\n",
    "a=[2,4,6,8,1]\n",
    "x=reduce(lambda b,c:b*c,a)\n",
    "print(x)"
   ]
  },
  {
   "cell_type": "code",
   "execution_count": null,
   "id": "928a752e",
   "metadata": {},
   "outputs": [],
   "source": [
    "#Python program to swap two elements in a list\n",
    "def swap(a,b):\n",
    "    a,b=b,a\n",
    "    return a,b \n",
    "print(swap(3,4))"
   ]
  },
  {
   "cell_type": "code",
   "execution_count": null,
   "id": "015115cf",
   "metadata": {},
   "outputs": [],
   "source": [
    "#Python program to find sum of elements in list\n",
    "from functools import reduce\n",
    "a=[1,2,3,4,5,6]\n",
    "c=reduce(lambda x,y:x+y,a)\n",
    "print(c)"
   ]
  },
  {
   "cell_type": "code",
   "execution_count": 22,
   "id": "aadd7b50",
   "metadata": {},
   "outputs": [
    {
     "name": "stdout",
     "output_type": "stream",
     "text": [
      "['2', 'b', 'a', '1']\n",
      "['b', 'a', '2', '1']\n",
      "['2', 'b', 'a', '1']\n"
     ]
    }
   ],
   "source": [
    "#Python | Reversing a List\n",
    "#using [::-1]:\n",
    "l=['1','a','b','2'][::-1]\n",
    "print(l)\n",
    "#using sort():\n",
    "l=['1','a','b','2']\n",
    "l.sort(reverse=True)\n",
    "print(l)\n",
    "#using reverse():\n",
    "l=['1','a','b','2']\n",
    "l.reverse()\n",
    "print(l)"
   ]
  },
  {
   "cell_type": "code",
   "execution_count": 28,
   "id": "56f9a44c",
   "metadata": {},
   "outputs": [
    {
     "name": "stdout",
     "output_type": "stream",
     "text": [
      "[]\n",
      "[]\n",
      "[]\n"
     ]
    }
   ],
   "source": [
    "#Different ways to clear a list in Python\n",
    "#using clear():\n",
    "a=[1,2,3,4,5]\n",
    "a.clear()\n",
    "print(a)\n",
    "#using *= 0 method\n",
    "a*=0\n",
    "print(a)\n",
    "#using del method\n",
    "del a[:]\n",
    "print(a)"
   ]
  },
  {
   "cell_type": "code",
   "execution_count": 23,
   "id": "fc9ef340",
   "metadata": {},
   "outputs": [
    {
     "name": "stdout",
     "output_type": "stream",
     "text": [
      "5\n",
      "5\n",
      "5\n"
     ]
    }
   ],
   "source": [
    "#Python | Ways to find length of list\n",
    "#using len():\n",
    "a=[1,2,3,4,5]\n",
    "z=len(a)\n",
    "print(z)\n",
    "#using count variable:\n",
    "count=0\n",
    "for i in a:\n",
    "    count=count+1\n",
    "print(count)\n",
    "#using length_hint()\n",
    "from operator import length_hint\n",
    "z=length_hint(a)\n",
    "print(z)"
   ]
  },
  {
   "cell_type": "code",
   "execution_count": 23,
   "id": "91537aed",
   "metadata": {},
   "outputs": [
    {
     "name": "stdout",
     "output_type": "stream",
     "text": [
      "yes\n",
      "no\n",
      "Our List:  ['a', 'b', 'b', 'c', 'd', 'e']\n",
      " 'b' is present in the list\n",
      "The original string : The last season of Game of Thrones was not good\n",
      "The original list : ['Stranger Things', 'S Education', 'Game of Thrones']\n",
      "Does string contain 'Game of Thrones' list element: True\n",
      "The list ['Homer', 'Bart', 'Lisa', 'Maggie', 'Lisa'] contains all elements of the list ['Bart', 'Homer', 'Lisa']\n",
      "Our List:  ['a', 'b', 'b', 'c', 'd', 'e']\n",
      " 'a' is present in the List\n"
     ]
    }
   ],
   "source": [
    "#Python | Ways to check if element exists in list\n",
    "MyList = ['a','b','b','c','d','e']\n",
    "\n",
    "#Using Python “in” operator\n",
    "if 'b' in MyList:\n",
    "    print('yes')\n",
    "else:\n",
    "    print('no')\n",
    "    \n",
    "#using \"not in\" operator\n",
    "if 'b' not in MyList:\n",
    "    print('yes')\n",
    "else:\n",
    "    print('no')\n",
    "    \n",
    "#Using Python list comprehension\n",
    "\n",
    "#Using list.count() method\n",
    "MyList = ['a','b','b','c','d','e']\n",
    "print(\"Our List: \", MyList)\n",
    "if MyList.count('b')>0:\n",
    "    print(\" 'b' is present in the list\")\n",
    "else:\n",
    "    print(\" 'b' is not present in the list\")\n",
    "    \n",
    "#Using Python any() function\n",
    "s= \"The last season of Game of Thrones was not good\"\n",
    "\n",
    "l= ['Stranger Things', 'S Education', 'Game of Thrones']\n",
    "\n",
    "print(\"The original string : \" + s)\n",
    "\n",
    "print(\"The original list : \" + str(l))\n",
    "\n",
    "res = any(i in s  for i in l)\n",
    "\n",
    "print(\"Does string contain 'Game of Thrones' list element: \" + str(res))\n",
    "        \n",
    "#using all method\n",
    "#List1 – List1 contains all or some of the items of another list.\n",
    "#List2 – It is the subset of the first one.\n",
    "List1 = ['Homer',  'Bart', 'Lisa', 'Maggie', 'Lisa']\n",
    "\n",
    "List2 = ['Bart', 'Homer', 'Lisa']\n",
    "\n",
    "check = all(i in List1 for i in List2)\n",
    "\n",
    "if check == True:\n",
    "    print(\"The list {} contains all elements of the list {}\".format(List1, List2))\n",
    "else:\n",
    "    print(\"No, List1 doesn't have all elements of the List2.\")\n",
    "\n",
    "#using custom function:\n",
    "Counter=0\n",
    "print(\"Our List: \", MyList)\n",
    "for i in MyList:\n",
    "     if(i == 'b'):\n",
    "        Counter=1 \n",
    "if(Counter==1) : \n",
    "    print(\" 'a' is present in the List\")\n",
    "else:\n",
    "     print(\" 'a' is not present in the List\")"
   ]
  },
  {
   "cell_type": "code",
   "execution_count": 2,
   "id": "9ba5a331",
   "metadata": {},
   "outputs": [
    {
     "name": "stdout",
     "output_type": "stream",
     "text": [
      "['hi', 34, 56, 10, 12]\n"
     ]
    }
   ],
   "source": [
    "#Python program to interchange first and last elements in a list\n",
    "a=[12,34,56,10,'hi']\n",
    "a[0],a[-1]=a[-1],a[0]\n",
    "print(a)\n"
   ]
  },
  {
   "cell_type": "code",
   "execution_count": 29,
   "id": "80e76479",
   "metadata": {},
   "outputs": [
    {
     "name": "stdout",
     "output_type": "stream",
     "text": [
      "(3, 5)\n"
     ]
    }
   ],
   "source": [
    "class x:\n",
    "    def __init__(self,a,b):\n",
    "        self.a=a\n",
    "        self.b=b\n",
    "    def __add__(self,o):\n",
    "        return self.a+o.a,self.b+o.b\n",
    "       \n",
    "obj1=x(1,2)\n",
    "obj2=x(2,3)\n",
    "obj3=obj1 + obj2\n",
    "print(obj3)"
   ]
  },
  {
   "cell_type": "code",
   "execution_count": 4,
   "id": "9b2bb96b",
   "metadata": {},
   "outputs": [
    {
     "name": "stdout",
     "output_type": "stream",
     "text": [
      "True\n"
     ]
    }
   ],
   "source": [
    "#any():\n",
    "a=['shivani','puneet','eva','avi']\n",
    "b=['avi','prayan']\n",
    "c=any(i in a for i in b)\n",
    "print(c)\n"
   ]
  },
  {
   "cell_type": "code",
   "execution_count": 30,
   "id": "44f0fb31",
   "metadata": {},
   "outputs": [
    {
     "name": "stdout",
     "output_type": "stream",
     "text": [
      "False\n"
     ]
    }
   ],
   "source": [
    "#all():\n",
    "a=['shivani','puneet','eva','avi']\n",
    "b=['avi','prayan']\n",
    "c=all(i in a for i in b)\n",
    "print(c)\n"
   ]
  },
  {
   "cell_type": "code",
   "execution_count": 5,
   "id": "3ecb6235",
   "metadata": {},
   "outputs": [
    {
     "name": "stdout",
     "output_type": "stream",
     "text": [
      "yes\n",
      "yes\n"
     ]
    }
   ],
   "source": [
    "x=['bana','de']\n",
    "y=['bana','de']\n",
    "for x in y:\n",
    "    print('yes')\n"
   ]
  },
  {
   "cell_type": "code",
   "execution_count": 2,
   "id": "bdeaa309",
   "metadata": {},
   "outputs": [
    {
     "name": "stdout",
     "output_type": "stream",
     "text": [
      "True\n"
     ]
    }
   ],
   "source": [
    "x=10\n",
    "y=10\n",
    "print(x is y)"
   ]
  },
  {
   "cell_type": "code",
   "execution_count": 23,
   "id": "8b5b6153",
   "metadata": {},
   "outputs": [
    {
     "name": "stdout",
     "output_type": "stream",
     "text": [
      "5\n",
      "5\n"
     ]
    }
   ],
   "source": [
    "#from operator import length_hint\n",
    "a=[1,2,3,4,5]\n",
    "count=0\n",
    "for i in a:\n",
    "    count=count+1\n",
    "print(count)\n",
    "print(length_hint(a))"
   ]
  },
  {
   "cell_type": "code",
   "execution_count": 17,
   "id": "ac8a73e0",
   "metadata": {},
   "outputs": [
    {
     "ename": "SyntaxError",
     "evalue": "invalid syntax (Temp/ipykernel_16460/3706431974.py, line 1)",
     "output_type": "error",
     "traceback": [
      "\u001b[1;36m  File \u001b[1;32m\"C:\\Users\\punee\\AppData\\Local\\Temp/ipykernel_16460/3706431974.py\"\u001b[1;36m, line \u001b[1;32m1\u001b[0m\n\u001b[1;33m    print(a*=0)\u001b[0m\n\u001b[1;37m           ^\u001b[0m\n\u001b[1;31mSyntaxError\u001b[0m\u001b[1;31m:\u001b[0m invalid syntax\n"
     ]
    }
   ],
   "source": [
    "print(a*=0)\n"
   ]
  },
  {
   "cell_type": "code",
   "execution_count": 34,
   "id": "90060ee6",
   "metadata": {},
   "outputs": [
    {
     "name": "stdout",
     "output_type": "stream",
     "text": [
      "Hi everyone this is shivani32,chaurasia\n"
     ]
    }
   ],
   "source": [
    "s='hello everyone'\n",
    "age=32\n",
    "name='chaurasia'\n",
    "print(\"Hi everyone this is shivani{},{}\".format(age,name))"
   ]
  },
  {
   "cell_type": "code",
   "execution_count": 40,
   "id": "c4274021",
   "metadata": {},
   "outputs": [
    {
     "name": "stdout",
     "output_type": "stream",
     "text": [
      "this is string\n",
      "thisisstring\n"
     ]
    }
   ],
   "source": [
    "s='this is string'\n",
    "x=s.split()\n",
    "print(s)\n",
    "x=(''.join(x))\n",
    "print(x)"
   ]
  },
  {
   "cell_type": "code",
   "execution_count": 47,
   "id": "8f18ce16",
   "metadata": {},
   "outputs": [
    {
     "name": "stdout",
     "output_type": "stream",
     "text": [
      "hi how r u kaise ho\n"
     ]
    }
   ],
   "source": [
    "x=['hi','how r u','kaise ho']\n",
    "x=(' '.join(x))\n",
    "print(x)"
   ]
  },
  {
   "cell_type": "code",
   "execution_count": 52,
   "id": "c88e3208",
   "metadata": {},
   "outputs": [
    {
     "name": "stdout",
     "output_type": "stream",
     "text": [
      "3\n"
     ]
    }
   ],
   "source": [
    "a=(2,4,8,0)\n",
    "print(a.index(0,1,4))"
   ]
  },
  {
   "cell_type": "code",
   "execution_count": 62,
   "id": "72219877",
   "metadata": {},
   "outputs": [
    {
     "name": "stdout",
     "output_type": "stream",
     "text": [
      "12\n",
      "34\n",
      "56\n"
     ]
    }
   ],
   "source": [
    "a=(12,56,'x')\n",
    "a=(first,sec,third)\n",
    "print(first)\n",
    "print(sec)\n",
    "print(third)"
   ]
  },
  {
   "cell_type": "code",
   "execution_count": 3,
   "id": "d565ff4b",
   "metadata": {},
   "outputs": [
    {
     "name": "stdout",
     "output_type": "stream",
     "text": [
      "{1: 'x', 3: 'y', 5: 'z'}\n"
     ]
    }
   ],
   "source": [
    "l=[1,'x',3,'y',5,'z']\n",
    "d={l[i]:l[i+1] for i in range(0,len(l),2)}\n",
    "print(d)\n"
   ]
  },
  {
   "cell_type": "code",
   "execution_count": 6,
   "id": "fa140c76",
   "metadata": {},
   "outputs": [
    {
     "name": "stdout",
     "output_type": "stream",
     "text": [
      "[4, 6, 8, 9]\n"
     ]
    }
   ],
   "source": [
    "l=[4,6,8,9,10]\n",
    "print(l[0:4])"
   ]
  },
  {
   "cell_type": "code",
   "execution_count": 15,
   "id": "8424b022",
   "metadata": {},
   "outputs": [
    {
     "ename": "ValueError",
     "evalue": "dictionary update sequence element #0 has length 1; 2 is required",
     "output_type": "error",
     "traceback": [
      "\u001b[1;31m---------------------------------------------------------------------------\u001b[0m",
      "\u001b[1;31mValueError\u001b[0m                                Traceback (most recent call last)",
      "\u001b[1;32m~\\AppData\\Local\\Temp/ipykernel_16000/1124120574.py\u001b[0m in \u001b[0;36m<module>\u001b[1;34m\u001b[0m\n\u001b[0;32m      1\u001b[0m \u001b[0ml\u001b[0m\u001b[1;33m=\u001b[0m\u001b[1;33m[\u001b[0m\u001b[1;33m{\u001b[0m\u001b[1;34m'a'\u001b[0m\u001b[1;33m:\u001b[0m\u001b[1;36m1\u001b[0m\u001b[1;33m}\u001b[0m\u001b[1;33m,\u001b[0m\u001b[1;33m{\u001b[0m\u001b[1;34m'b'\u001b[0m\u001b[1;33m:\u001b[0m\u001b[1;34m'x'\u001b[0m\u001b[1;33m}\u001b[0m\u001b[1;33m,\u001b[0m\u001b[1;33m{\u001b[0m\u001b[1;34m'c'\u001b[0m\u001b[1;33m:\u001b[0m\u001b[1;36m4\u001b[0m\u001b[1;33m}\u001b[0m\u001b[1;33m]\u001b[0m\u001b[1;33m\u001b[0m\u001b[1;33m\u001b[0m\u001b[0m\n\u001b[1;32m----> 2\u001b[1;33m \u001b[0md\u001b[0m\u001b[1;33m=\u001b[0m\u001b[0mdict\u001b[0m\u001b[1;33m(\u001b[0m\u001b[0ml\u001b[0m\u001b[1;33m)\u001b[0m\u001b[1;33m\u001b[0m\u001b[1;33m\u001b[0m\u001b[0m\n\u001b[0m\u001b[0;32m      3\u001b[0m \u001b[0mprint\u001b[0m\u001b[1;33m(\u001b[0m\u001b[0md\u001b[0m\u001b[1;33m)\u001b[0m\u001b[1;33m\u001b[0m\u001b[1;33m\u001b[0m\u001b[0m\n",
      "\u001b[1;31mValueError\u001b[0m: dictionary update sequence element #0 has length 1; 2 is required"
     ]
    }
   ],
   "source": [
    "l=[{'a':1},{'b':'x'},{'c':4}]\n",
    "d=dict(l)\n",
    "print(d)"
   ]
  },
  {
   "cell_type": "code",
   "execution_count": 9,
   "id": "414ee256",
   "metadata": {},
   "outputs": [
    {
     "name": "stdout",
     "output_type": "stream",
     "text": [
      "{1: 2, 'a': 's', 'b': 5}\n"
     ]
    }
   ],
   "source": [
    "l=[{1:2},{'a':'s'},{'b':5}]\n",
    "d={}\n",
    "for i in l:\n",
    "    d.update(i)\n",
    "print(d)\n"
   ]
  },
  {
   "cell_type": "code",
   "execution_count": 13,
   "id": "8216ba0b",
   "metadata": {},
   "outputs": [
    {
     "name": "stdout",
     "output_type": "stream",
     "text": [
      "{0: 1, 2: 5, 6: 7}\n"
     ]
    }
   ],
   "source": [
    "l=[(0,1),(2,5),(6,7)]\n",
    "d=dict(l)\n",
    "print(d)"
   ]
  },
  {
   "cell_type": "code",
   "execution_count": 14,
   "id": "fa65a6aa",
   "metadata": {},
   "outputs": [
    {
     "name": "stdout",
     "output_type": "stream",
     "text": [
      "{1: 2, 3: 4}\n"
     ]
    }
   ],
   "source": [
    "l=[[1,2],[3,4]]\n",
    "d=dict(l)\n",
    "print(d)"
   ]
  },
  {
   "cell_type": "code",
   "execution_count": 16,
   "id": "e5bd873c",
   "metadata": {},
   "outputs": [
    {
     "ename": "TypeError",
     "evalue": "cannot convert dictionary update sequence element #0 to a sequence",
     "output_type": "error",
     "traceback": [
      "\u001b[1;31m---------------------------------------------------------------------------\u001b[0m",
      "\u001b[1;31mTypeError\u001b[0m                                 Traceback (most recent call last)",
      "\u001b[1;32m~\\AppData\\Local\\Temp/ipykernel_16000/4116484422.py\u001b[0m in \u001b[0;36m<module>\u001b[1;34m\u001b[0m\n\u001b[0;32m      1\u001b[0m \u001b[0ma\u001b[0m\u001b[1;33m=\u001b[0m\u001b[1;33m[\u001b[0m\u001b[1;36m1\u001b[0m\u001b[1;33m,\u001b[0m\u001b[1;36m2\u001b[0m\u001b[1;33m,\u001b[0m\u001b[1;36m3\u001b[0m\u001b[1;33m,\u001b[0m\u001b[1;36m4\u001b[0m\u001b[1;33m,\u001b[0m\u001b[1;36m5\u001b[0m\u001b[1;33m,\u001b[0m\u001b[1;36m6\u001b[0m\u001b[1;33m]\u001b[0m\u001b[1;33m\u001b[0m\u001b[1;33m\u001b[0m\u001b[0m\n\u001b[1;32m----> 2\u001b[1;33m \u001b[0md\u001b[0m\u001b[1;33m=\u001b[0m\u001b[0mdict\u001b[0m\u001b[1;33m(\u001b[0m\u001b[0ma\u001b[0m\u001b[1;33m)\u001b[0m\u001b[1;33m\u001b[0m\u001b[1;33m\u001b[0m\u001b[0m\n\u001b[0m\u001b[0;32m      3\u001b[0m \u001b[0mprint\u001b[0m\u001b[1;33m(\u001b[0m\u001b[0md\u001b[0m\u001b[1;33m)\u001b[0m\u001b[1;33m\u001b[0m\u001b[1;33m\u001b[0m\u001b[0m\n",
      "\u001b[1;31mTypeError\u001b[0m: cannot convert dictionary update sequence element #0 to a sequence"
     ]
    }
   ],
   "source": [
    "a=[1,2,3,4,5,6]\n",
    "d=dict(a)\n",
    "print(d)"
   ]
  },
  {
   "cell_type": "code",
   "execution_count": 21,
   "id": "9d9126e2",
   "metadata": {},
   "outputs": [
    {
     "name": "stdout",
     "output_type": "stream",
     "text": [
      "{1: 2}\n",
      "{3: 4}\n",
      "{5: 6}\n"
     ]
    }
   ],
   "source": [
    "a=[1,2,3,4,5,6]\n",
    "d={}\n",
    "for i in range(0,len(a),2):\n",
    "    d={a[i]:a[i+1]}\n",
    "    print(d)\n",
    "                            "
   ]
  },
  {
   "cell_type": "code",
   "execution_count": 23,
   "id": "2f51d868",
   "metadata": {},
   "outputs": [
    {
     "name": "stdout",
     "output_type": "stream",
     "text": [
      "{1: 2, 3: 4, 'z': 'c'}\n"
     ]
    }
   ],
   "source": [
    "a=[(1,2),(3,4),('z','c')]\n",
    "d=dict(a)\n",
    "print(d)"
   ]
  },
  {
   "cell_type": "code",
   "execution_count": 24,
   "id": "d6135ee9",
   "metadata": {},
   "outputs": [
    {
     "name": "stdout",
     "output_type": "stream",
     "text": [
      "{1: 2, 3: 4, 0: 9}\n"
     ]
    }
   ],
   "source": [
    "a=[[1,2],[3,4],[0,9]]\n",
    "d=dict(a)\n",
    "print(d)"
   ]
  },
  {
   "cell_type": "code",
   "execution_count": 30,
   "id": "53763078",
   "metadata": {},
   "outputs": [
    {
     "name": "stdout",
     "output_type": "stream",
     "text": [
      "{1: 2, 3: 4, 5: 6}\n",
      "{1: 2, 3: 4, 5: 6}\n",
      "{1: 2, 3: 4, 5: 6}\n"
     ]
    }
   ],
   "source": [
    "a=[{1:2},{3:4},{5:6}]\n",
    "#d={}\n",
    "for i in a:\n",
    "    d.update(i)\n",
    "    print(d)"
   ]
  },
  {
   "cell_type": "code",
   "execution_count": 32,
   "id": "ad896a4b",
   "metadata": {},
   "outputs": [
    {
     "name": "stdout",
     "output_type": "stream",
     "text": [
      "{1: 4, 2: 4, 3: 4, 4: 4}\n"
     ]
    }
   ],
   "source": [
    "a=[1,2,3,4]\n",
    "d=dict.fromkeys(a,4)\n",
    "print(d)"
   ]
  },
  {
   "cell_type": "code",
   "execution_count": 40,
   "id": "51715a99",
   "metadata": {},
   "outputs": [
    {
     "name": "stdout",
     "output_type": "stream",
     "text": [
      "{1: 1, 2: 2, 3: 3, 4: None, 6: None}\n"
     ]
    }
   ],
   "source": [
    "from itertools import zip_longest\n",
    "a=[1,2,3,4,6]\n",
    "b=[1,2,3,]\n",
    "d=zip_longest(a,b)\n",
    "print(dict(d))"
   ]
  },
  {
   "cell_type": "code",
   "execution_count": 41,
   "id": "4138be8a",
   "metadata": {},
   "outputs": [
    {
     "ename": "NameError",
     "evalue": "name 'items' is not defined",
     "output_type": "error",
     "traceback": [
      "\u001b[1;31m---------------------------------------------------------------------------\u001b[0m",
      "\u001b[1;31mNameError\u001b[0m                                 Traceback (most recent call last)",
      "\u001b[1;32m~\\AppData\\Local\\Temp/ipykernel_16000/3825359903.py\u001b[0m in \u001b[0;36m<module>\u001b[1;34m\u001b[0m\n\u001b[0;32m      2\u001b[0m \u001b[0mb\u001b[0m\u001b[1;33m=\u001b[0m\u001b[1;33m[\u001b[0m\u001b[1;36m5\u001b[0m\u001b[1;33m,\u001b[0m\u001b[1;36m6\u001b[0m\u001b[1;33m,\u001b[0m\u001b[1;36m7\u001b[0m\u001b[1;33m,\u001b[0m\u001b[1;36m8\u001b[0m\u001b[1;33m]\u001b[0m\u001b[1;33m\u001b[0m\u001b[1;33m\u001b[0m\u001b[0m\n\u001b[0;32m      3\u001b[0m \u001b[0md\u001b[0m\u001b[1;33m=\u001b[0m\u001b[1;33m{\u001b[0m\u001b[1;33m}\u001b[0m\u001b[1;33m\u001b[0m\u001b[1;33m\u001b[0m\u001b[0m\n\u001b[1;32m----> 4\u001b[1;33m \u001b[1;32mfor\u001b[0m \u001b[0ma\u001b[0m\u001b[1;33m,\u001b[0m\u001b[0mb\u001b[0m \u001b[1;32min\u001b[0m \u001b[0mitems\u001b[0m\u001b[1;33m(\u001b[0m\u001b[1;33m)\u001b[0m\u001b[1;33m:\u001b[0m\u001b[1;33m\u001b[0m\u001b[1;33m\u001b[0m\u001b[0m\n\u001b[0m\u001b[0;32m      5\u001b[0m     \u001b[0mprint\u001b[0m\u001b[1;33m(\u001b[0m\u001b[0md\u001b[0m\u001b[1;33m)\u001b[0m\u001b[1;33m\u001b[0m\u001b[1;33m\u001b[0m\u001b[0m\n",
      "\u001b[1;31mNameError\u001b[0m: name 'items' is not defined"
     ]
    }
   ],
   "source": [
    "a=[1,2,3,4]\n",
    "b=[5,6,7,8]\n",
    "d={}\n",
    "for a,b in items():\n",
    "    print(d)"
   ]
  },
  {
   "cell_type": "code",
   "execution_count": 43,
   "id": "d7bf9b44",
   "metadata": {},
   "outputs": [
    {
     "name": "stdout",
     "output_type": "stream",
     "text": [
      "[]\n"
     ]
    }
   ],
   "source": [
    "d=[1,2,3]\n",
    "d.clear()\n",
    "print(d)"
   ]
  },
  {
   "cell_type": "code",
   "execution_count": 2,
   "id": "293f3753",
   "metadata": {},
   "outputs": [
    {
     "name": "stdout",
     "output_type": "stream",
     "text": [
      "False\n"
     ]
    }
   ],
   "source": [
    "a=['shivani','puneet','eva','avi']\n",
    "b=['avi','prayan']\n",
    "c=all(i in a for i in b)\n",
    "print(c)\n"
   ]
  },
  {
   "cell_type": "code",
   "execution_count": null,
   "id": "70bddcc8",
   "metadata": {},
   "outputs": [],
   "source": []
  }
 ],
 "metadata": {
  "kernelspec": {
   "display_name": "Python 3 (ipykernel)",
   "language": "python",
   "name": "python3"
  },
  "language_info": {
   "codemirror_mode": {
    "name": "ipython",
    "version": 3
   },
   "file_extension": ".py",
   "mimetype": "text/x-python",
   "name": "python",
   "nbconvert_exporter": "python",
   "pygments_lexer": "ipython3",
   "version": "3.9.7"
  }
 },
 "nbformat": 4,
 "nbformat_minor": 5
}
